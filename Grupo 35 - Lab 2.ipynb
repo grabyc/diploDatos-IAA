{
 "cells": [
  {
   "cell_type": "markdown",
   "metadata": {},
   "source": [
    "# Laboratorio 2: Armado de un esquema de aprendizaje automático\n",
    "\n",
    "En el laboratorio final se espera que puedan poner en práctica los conocimientos adquiridos en el curso, trabajando con un conjunto de datos de clasificación.\n",
    "\n",
    "El objetivo es que se introduzcan en el desarrollo de un esquema para hacer tareas de aprendizaje automático: selección de un modelo, ajuste de hiperparámetros y evaluación.\n",
    "\n",
    "El conjunto de datos a utilizar está en `./data/loan_data.csv`. Si abren el archivo verán que al principio (las líneas que empiezan con `#`) describen el conjunto de datos y sus atributos (incluyendo el atributo de etiqueta o clase).\n",
    "\n",
    "Se espera que hagan uso de las herramientas vistas en el curso. Se espera que hagan uso especialmente de las herramientas brindadas por `scikit-learn`."
   ]
  },
  {
   "cell_type": "code",
   "execution_count": null,
   "metadata": {},
   "outputs": [],
   "source": [
    "import numpy as np\n",
    "import pandas as pd\n",
    "\n",
    "# TODO: Agregar las librerías que hagan falta\n",
    "from sklearn.model_selection import train_test_split"
   ]
  },
  {
   "cell_type": "markdown",
   "metadata": {},
   "source": [
    "## Carga de datos y división en entrenamiento y evaluación\n",
    "\n",
    "La celda siguiente se encarga de la carga de datos (haciendo uso de pandas). Estos serán los que se trabajarán en el resto del laboratorio."
   ]
  },
  {
   "cell_type": "code",
   "execution_count": null,
   "metadata": {},
   "outputs": [],
   "source": [
    "dataset = pd.read_csv(\"./data/loan_data.csv\", comment=\"#\")\n",
    "\n",
    "# División entre instancias y etiquetas\n",
    "X, y = dataset.iloc[:, 1:], dataset.TARGET\n",
    "\n",
    "# división entre entrenamiento y evaluación\n",
    "X_train, X_test, y_train, y_test = train_test_split(X, y, test_size=0.2, random_state=0)"
   ]
  },
  {
   "cell_type": "markdown",
   "metadata": {},
   "source": [
    "\n",
    "Documentación:\n",
    "\n",
    "- https://scikit-learn.org/stable/modules/generated/sklearn.model_selection.train_test_split.html"
   ]
  },
  {
   "cell_type": "markdown",
   "metadata": {},
   "source": [
    "## Ejercicio 1: Descripción de los Datos y la Tarea\n",
    "\n",
    "Responder las siguientes preguntas:\n",
    "\n",
    "1. ¿De qué se trata el conjunto de datos?\n",
    "2. ¿Cuál es la variable objetivo que hay que predecir? ¿Qué significado tiene?\n",
    "3. ¿Qué información (atributos) hay disponible para hacer la predicción?\n",
    "4. ¿Qué atributos imagina ud. que son los más determinantes para la predicción?\n",
    "\n",
    "**No hace falta escribir código para responder estas preguntas.**"
   ]
  },
  {
   "cell_type": "markdown",
   "metadata": {},
   "source": [
    "## Ejercicio 2: Predicción con Modelos Lineales\n",
    "\n",
    "En este ejercicio se entrenarán modelos lineales de clasificación para predecir la variable objetivo.\n",
    "\n",
    "Para ello, deberán utilizar la clase SGDClassifier de scikit-learn.\n",
    "\n",
    "Documentación:\n",
    "- https://scikit-learn.org/stable/modules/sgd.html\n",
    "- https://scikit-learn.org/stable/modules/generated/sklearn.linear_model.SGDClassifier.html\n"
   ]
  },
  {
   "cell_type": "markdown",
   "metadata": {},
   "source": [
    "### Ejercicio 2.1: SGDClassifier con hiperparámetros por defecto\n",
    "\n",
    "Entrenar y evaluar el clasificador SGDClassifier usando los valores por omisión de scikit-learn para todos los parámetros. Únicamente **fijar la semilla aleatoria** para hacer repetible el experimento.\n",
    "\n",
    "Evaluar sobre el conjunto de **entrenamiento** y sobre el conjunto de **evaluación**, reportando:\n",
    "- Accuracy\n",
    "- Precision\n",
    "- Recall\n",
    "- F1\n",
    "- matriz de confusión"
   ]
  },
  {
   "cell_type": "markdown",
   "metadata": {},
   "source": [
    "### Ejercicio 2.2: Ajuste de Hiperparámetros\n",
    "\n",
    "Seleccionar valores para los hiperparámetros principales del SGDClassifier. Como mínimo, probar diferentes funciones de loss, tasas de entrenamiento y tasas de regularización.\n",
    "\n",
    "Para ello, usar grid-search y 5-fold cross-validation sobre el conjunto de entrenamiento para explorar muchas combinaciones posibles de valores.\n",
    "\n",
    "Reportar accuracy promedio y varianza para todas las configuraciones.\n",
    "\n",
    "Para la mejor configuración encontrada, evaluar sobre el conjunto de **entrenamiento** y sobre el conjunto de **evaluación**, reportando:\n",
    "- Accuracy\n",
    "- Precision\n",
    "- Recall\n",
    "- F1\n",
    "- matriz de confusión\n",
    "\n",
    "Documentación:\n",
    "- https://scikit-learn.org/stable/modules/grid_search.html\n",
    "- https://scikit-learn.org/stable/modules/generated/sklearn.model_selection.GridSearchCV.html"
   ]
  },
  {
   "cell_type": "markdown",
   "metadata": {},
   "source": [
    "## Ejercicio 3: Árboles de Decisión\n",
    "\n",
    "En este ejercicio se entrenarán árboles de decisión para predecir la variable objetivo.\n",
    "\n",
    "Para ello, deberán utilizar la clase DecisionTreeClassifier de scikit-learn.\n",
    "\n",
    "Documentación:\n",
    "- https://scikit-learn.org/stable/modules/tree.html\n",
    "  - https://scikit-learn.org/stable/modules/tree.html#tips-on-practical-use\n",
    "- https://scikit-learn.org/stable/modules/generated/sklearn.tree.DecisionTreeClassifier.html\n",
    "- https://scikit-learn.org/stable/auto_examples/tree/plot_unveil_tree_structure.html"
   ]
  },
  {
   "cell_type": "markdown",
   "metadata": {},
   "source": [
    "### Ejercicio 3.1: DecisionTreeClassifier con hiperparámetros por defecto\n",
    "\n",
    "Entrenar y evaluar el clasificador DecisionTreeClassifier usando los valores por omisión de scikit-learn para todos los parámetros. Únicamente **fijar la semilla aleatoria** para hacer repetible el experimento.\n",
    "\n",
    "Evaluar sobre el conjunto de **entrenamiento** y sobre el conjunto de **evaluación**, reportando:\n",
    "- Accuracy\n",
    "- Precision\n",
    "- Recall\n",
    "- F1\n",
    "- matriz de confusión\n"
   ]
  },
  {
   "cell_type": "markdown",
   "metadata": {},
   "source": [
    "### Ejercicio 3.2: Ajuste de Hiperparámetros\n",
    "\n",
    "Seleccionar valores para los hiperparámetros principales del DecisionTreeClassifier. Como mínimo, probar diferentes criterios de partición (criterion), profundidad máxima del árbol (max_depth), y cantidad mínima de samples por hoja (min_samples_leaf).\n",
    "\n",
    "Para ello, usar grid-search y 5-fold cross-validation sobre el conjunto de entrenamiento para explorar muchas combinaciones posibles de valores.\n",
    "\n",
    "Reportar accuracy promedio y varianza para todas las configuraciones.\n",
    "\n",
    "Para la mejor configuración encontrada, evaluar sobre el conjunto de **entrenamiento** y sobre el conjunto de **evaluación**, reportando:\n",
    "- Accuracy\n",
    "- Precision\n",
    "- Recall\n",
    "- F1\n",
    "- matriz de confusión\n",
    "\n",
    "\n",
    "Documentación:\n",
    "- https://scikit-learn.org/stable/modules/grid_search.html\n",
    "- https://scikit-learn.org/stable/modules/generated/sklearn.model_selection.GridSearchCV.html"
   ]
  },
  {
   "cell_type": "markdown",
   "metadata": {},
   "source": [
    "--------------------------------------------------------------------------------------------------------------------"
   ]
  },
  {
   "cell_type": "markdown",
   "metadata": {},
   "source": [
    "## Inicialización de entorno de trabajo"
   ]
  },
  {
   "cell_type": "code",
   "execution_count": 33,
   "metadata": {},
   "outputs": [],
   "source": [
    "import numpy as np\n",
    "import pandas as pd\n",
    "\n",
    "from sklearn.model_selection import train_test_split, GridSearchCV\n",
    "from sklearn.preprocessing import StandardScaler\n",
    "from sklearn.linear_model import SGDClassifier\n",
    "from sklearn.metrics import confusion_matrix ,classification_report, balanced_accuracy_score ## accuracy_score, precision_score, recall_score, f1_score, \n"
   ]
  },
  {
   "cell_type": "markdown",
   "metadata": {},
   "source": [
    "## Carga de datos y división en entrenamiento y evaluación"
   ]
  },
  {
   "cell_type": "code",
   "execution_count": 2,
   "metadata": {},
   "outputs": [],
   "source": [
    "dataset = pd.read_csv(\"./data/loan_data.csv\", comment=\"#\")\n",
    "\n",
    "# División entre instancias y etiquetas\n",
    "X, y = dataset.iloc[:, 1:], dataset.TARGET\n",
    "\n",
    "# división entre entrenamiento y evaluación\n",
    "X_train, X_test, y_train, y_test = train_test_split(X, y, test_size=0.2, random_state=0)"
   ]
  },
  {
   "cell_type": "code",
   "execution_count": null,
   "metadata": {},
   "outputs": [
    {
     "data": {
      "text/html": [
       "\n",
       "        <iframe\n",
       "            width=\"100%\"\n",
       "            height=\"475\"\n",
       "            src=\"http://ds:40000/dtale/iframe/1\"\n",
       "            frameborder=\"0\"\n",
       "            allowfullscreen\n",
       "            \n",
       "        ></iframe>\n",
       "        "
      ],
      "text/plain": [
       "<IPython.lib.display.IFrame at 0x7f7907310d00>"
      ]
     },
     "metadata": {},
     "output_type": "display_data"
    },
    {
     "data": {
      "text/plain": []
     },
     "execution_count": 4,
     "metadata": {},
     "output_type": "execute_result"
    },
    {
     "name": "stderr",
     "output_type": "stream",
     "text": [
      "/home/user/.local/lib/python3.8/site-packages/seaborn/matrix.py:309: UserWarning:\n",
      "\n",
      "Attempting to set identical low and high xlims makes transformation singular; automatically expanding.\n",
      "\n",
      "/home/user/.local/lib/python3.8/site-packages/seaborn/matrix.py:309: UserWarning:\n",
      "\n",
      "Attempting to set identical low and high ylims makes transformation singular; automatically expanding.\n",
      "\n",
      "2023-08-24 20:02:24,902 - WARNING  - findfont: Font family 'Heiti TC' not found.\n",
      "2023-08-24 20:02:24,942 - WARNING  - findfont: Font family 'Heiti TC' not found.\n",
      "2023-08-24 20:02:24,947 - WARNING  - findfont: Font family 'Heiti TC' not found.\n",
      "2023-08-24 20:02:24,952 - WARNING  - findfont: Font family 'Heiti TC' not found.\n",
      "2023-08-24 20:02:24,957 - WARNING  - findfont: Font family 'Heiti TC' not found.\n",
      "2023-08-24 20:02:24,959 - WARNING  - findfont: Font family 'Heiti TC' not found.\n",
      "2023-08-24 20:02:24,963 - WARNING  - findfont: Font family 'Heiti TC' not found.\n",
      "2023-08-24 20:02:24,971 - WARNING  - findfont: Font family 'Heiti TC' not found.\n",
      "2023-08-24 20:02:24,973 - WARNING  - findfont: Font family 'Heiti TC' not found.\n",
      "2023-08-24 20:02:24,982 - WARNING  - findfont: Font family 'Heiti TC' not found.\n",
      "2023-08-24 20:02:24,991 - WARNING  - findfont: Font family 'Heiti TC' not found.\n",
      "2023-08-24 20:02:25,004 - WARNING  - findfont: Font family 'Heiti TC' not found.\n",
      "2023-08-24 20:02:25,008 - WARNING  - findfont: Font family 'Heiti TC' not found.\n",
      "2023-08-24 20:02:25,035 - WARNING  - findfont: Font family 'Heiti TC' not found.\n",
      "2023-08-24 20:02:25,047 - WARNING  - findfont: Font family 'Heiti TC' not found.\n",
      "2023-08-24 20:02:25,055 - WARNING  - findfont: Font family 'Heiti TC' not found.\n",
      "2023-08-24 20:02:25,065 - WARNING  - findfont: Font family 'Heiti TC' not found.\n",
      "2023-08-24 20:02:25,069 - WARNING  - findfont: Font family 'Heiti TC' not found.\n",
      "2023-08-24 20:02:25,085 - WARNING  - findfont: Font family 'Heiti TC' not found.\n",
      "2023-08-24 20:02:25,157 - WARNING  - findfont: Font family 'Heiti TC' not found.\n",
      "2023-08-24 20:02:25,163 - WARNING  - findfont: Font family 'Heiti TC' not found.\n",
      "2023-08-24 20:02:25,166 - WARNING  - findfont: Font family 'Heiti TC' not found.\n",
      "2023-08-24 20:02:25,168 - WARNING  - findfont: Font family 'Heiti TC' not found.\n",
      "2023-08-24 20:02:25,173 - WARNING  - findfont: Font family 'Heiti TC' not found.\n",
      "2023-08-24 20:02:25,182 - WARNING  - findfont: Font family 'Heiti TC' not found.\n",
      "2023-08-24 20:02:25,186 - WARNING  - findfont: Font family 'Heiti TC' not found.\n",
      "2023-08-24 20:02:25,188 - WARNING  - findfont: Font family 'Heiti TC' not found.\n",
      "2023-08-24 20:02:25,194 - WARNING  - findfont: Font family 'Heiti TC' not found.\n",
      "2023-08-24 20:02:25,197 - WARNING  - findfont: Font family 'Heiti TC' not found.\n",
      "2023-08-24 20:02:25,200 - WARNING  - findfont: Font family 'Heiti TC' not found.\n",
      "2023-08-24 20:02:25,209 - WARNING  - findfont: Font family 'Heiti TC' not found.\n",
      "2023-08-24 20:02:25,216 - WARNING  - findfont: Font family 'Heiti TC' not found.\n",
      "2023-08-24 20:02:25,228 - WARNING  - findfont: Font family 'Heiti TC' not found.\n",
      "2023-08-24 20:02:25,232 - WARNING  - findfont: Font family 'Heiti TC' not found.\n",
      "2023-08-24 20:02:25,239 - WARNING  - findfont: Font family 'Heiti TC' not found.\n",
      "2023-08-24 20:02:25,245 - WARNING  - findfont: Font family 'Heiti TC' not found.\n",
      "2023-08-24 20:02:25,249 - WARNING  - findfont: Font family 'Heiti TC' not found.\n",
      "2023-08-24 20:02:25,252 - WARNING  - findfont: Font family 'Heiti TC' not found.\n",
      "2023-08-24 20:02:55,261 - WARNING  - findfont: Font family 'Heiti TC' not found.\n",
      "2023-08-24 20:02:55,265 - WARNING  - findfont: Font family 'Heiti TC' not found.\n",
      "2023-08-24 20:02:55,273 - WARNING  - findfont: Font family 'Heiti TC' not found.\n",
      "2023-08-24 20:02:55,276 - WARNING  - findfont: Font family 'Heiti TC' not found.\n",
      "2023-08-24 20:02:55,284 - WARNING  - findfont: Font family 'Heiti TC' not found.\n",
      "2023-08-24 20:02:55,291 - WARNING  - findfont: Font family 'Heiti TC' not found.\n",
      "2023-08-24 20:02:55,293 - WARNING  - findfont: Font family 'Heiti TC' not found.\n",
      "2023-08-24 20:02:55,295 - WARNING  - findfont: Font family 'Heiti TC' not found.\n",
      "2023-08-24 20:02:55,296 - WARNING  - findfont: Font family 'Heiti TC' not found.\n",
      "2023-08-24 20:02:55,298 - WARNING  - findfont: Font family 'Heiti TC' not found.\n",
      "2023-08-24 20:02:55,306 - WARNING  - findfont: Font family 'Heiti TC' not found.\n",
      "2023-08-24 20:02:55,309 - WARNING  - findfont: Font family 'Heiti TC' not found.\n",
      "2023-08-24 20:02:55,311 - WARNING  - findfont: Font family 'Heiti TC' not found.\n",
      "2023-08-24 20:02:55,313 - WARNING  - findfont: Font family 'Heiti TC' not found.\n",
      "2023-08-24 20:02:55,318 - WARNING  - findfont: Font family 'Heiti TC' not found.\n",
      "2023-08-24 20:02:55,322 - WARNING  - findfont: Font family 'Heiti TC' not found.\n",
      "2023-08-24 20:02:55,473 - WARNING  - findfont: Font family 'Heiti TC' not found.\n",
      "2023-08-24 20:02:55,477 - WARNING  - findfont: Font family 'Heiti TC' not found.\n",
      "2023-08-24 20:02:55,483 - WARNING  - findfont: Font family 'Heiti TC' not found.\n",
      "2023-08-24 20:02:55,487 - WARNING  - findfont: Font family 'Heiti TC' not found.\n",
      "2023-08-24 20:02:55,489 - WARNING  - findfont: Font family 'Heiti TC' not found.\n",
      "2023-08-24 20:02:55,491 - WARNING  - findfont: Font family 'Heiti TC' not found.\n",
      "2023-08-24 20:02:55,498 - WARNING  - findfont: Font family 'Heiti TC' not found.\n",
      "2023-08-24 20:02:55,506 - WARNING  - findfont: Font family 'Heiti TC' not found.\n",
      "2023-08-24 20:02:55,509 - WARNING  - findfont: Font family 'Heiti TC' not found.\n",
      "2023-08-24 20:02:55,516 - WARNING  - findfont: Font family 'Heiti TC' not found.\n",
      "2023-08-24 20:02:55,519 - WARNING  - findfont: Font family 'Heiti TC' not found.\n",
      "2023-08-24 20:02:55,535 - WARNING  - findfont: Font family 'Heiti TC' not found.\n",
      "2023-08-24 20:02:55,542 - WARNING  - findfont: Font family 'Heiti TC' not found.\n",
      "2023-08-24 20:02:55,546 - WARNING  - findfont: Font family 'Heiti TC' not found.\n",
      "2023-08-24 20:02:55,548 - WARNING  - findfont: Font family 'Heiti TC' not found.\n",
      "2023-08-24 20:02:55,550 - WARNING  - findfont: Font family 'Heiti TC' not found.\n",
      "/home/user/.local/lib/python3.8/site-packages/scipy/cluster/hierarchy.py:2848: UserWarning:\n",
      "\n",
      "Attempting to set identical low and high ylims makes transformation singular; automatically expanding.\n",
      "\n",
      "2023-08-24 20:03:02,871 - WARNING  - findfont: Font family 'Heiti TC' not found.\n",
      "2023-08-24 20:03:02,874 - WARNING  - findfont: Font family 'Heiti TC' not found.\n",
      "2023-08-24 20:03:02,878 - WARNING  - findfont: Font family 'Heiti TC' not found.\n",
      "2023-08-24 20:03:02,887 - WARNING  - findfont: Font family 'Heiti TC' not found.\n",
      "2023-08-24 20:03:02,889 - WARNING  - findfont: Font family 'Heiti TC' not found.\n",
      "2023-08-24 20:03:02,893 - WARNING  - findfont: Font family 'Heiti TC' not found.\n",
      "2023-08-24 20:03:02,896 - WARNING  - findfont: Font family 'Heiti TC' not found.\n",
      "2023-08-24 20:03:02,902 - WARNING  - findfont: Font family 'Heiti TC' not found.\n",
      "2023-08-24 20:03:02,905 - WARNING  - findfont: Font family 'Heiti TC' not found.\n",
      "2023-08-24 20:03:02,908 - WARNING  - findfont: Font family 'Heiti TC' not found.\n",
      "2023-08-24 20:03:02,917 - WARNING  - findfont: Font family 'Heiti TC' not found.\n",
      "2023-08-24 20:03:02,921 - WARNING  - findfont: Font family 'Heiti TC' not found.\n",
      "2023-08-24 20:03:02,949 - WARNING  - findfont: Font family 'Heiti TC' not found.\n",
      "2023-08-24 20:03:02,953 - WARNING  - findfont: Font family 'Heiti TC' not found.\n",
      "2023-08-24 20:03:02,956 - WARNING  - findfont: Font family 'Heiti TC' not found.\n",
      "2023-08-24 20:03:02,961 - WARNING  - findfont: Font family 'Heiti TC' not found.\n",
      "2023-08-24 20:03:02,972 - WARNING  - findfont: Font family 'Heiti TC' not found.\n",
      "2023-08-24 20:03:02,977 - WARNING  - findfont: Font family 'Heiti TC' not found.\n",
      "2023-08-24 20:03:02,984 - WARNING  - findfont: Font family 'Heiti TC' not found.\n",
      "2023-08-24 20:03:02,988 - WARNING  - findfont: Font family 'Heiti TC' not found.\n",
      "2023-08-24 20:03:02,989 - WARNING  - findfont: Font family 'Heiti TC' not found.\n",
      "2023-08-24 20:03:02,991 - WARNING  - findfont: Font family 'Heiti TC' not found.\n",
      "2023-08-24 20:03:02,993 - WARNING  - findfont: Font family 'Heiti TC' not found.\n",
      "2023-08-24 20:03:03,038 - WARNING  - findfont: Font family 'Heiti TC' not found.\n",
      "2023-08-24 20:03:03,044 - WARNING  - findfont: Font family 'Heiti TC' not found.\n",
      "2023-08-24 20:03:03,054 - WARNING  - findfont: Font family 'Heiti TC' not found.\n",
      "2023-08-24 20:03:03,063 - WARNING  - findfont: Font family 'Heiti TC' not found.\n",
      "2023-08-24 20:03:03,066 - WARNING  - findfont: Font family 'Heiti TC' not found.\n",
      "2023-08-24 20:03:03,075 - WARNING  - findfont: Font family 'Heiti TC' not found.\n",
      "2023-08-24 20:03:03,089 - WARNING  - findfont: Font family 'Heiti TC' not found.\n",
      "2023-08-24 20:03:03,101 - WARNING  - findfont: Font family 'Heiti TC' not found.\n",
      "2023-08-24 20:03:03,104 - WARNING  - findfont: Font family 'Heiti TC' not found.\n",
      "2023-08-24 20:03:03,108 - WARNING  - findfont: Font family 'Heiti TC' not found.\n",
      "2023-08-24 20:03:03,114 - WARNING  - findfont: Font family 'Heiti TC' not found.\n",
      "2023-08-24 20:03:05,812 - WARNING  - findfont: Font family 'Heiti TC' not found.\n",
      "2023-08-24 20:03:05,821 - WARNING  - findfont: Font family 'Heiti TC' not found.\n",
      "2023-08-24 20:03:05,824 - WARNING  - findfont: Font family 'Heiti TC' not found.\n",
      "2023-08-24 20:03:05,830 - WARNING  - findfont: Font family 'Heiti TC' not found.\n",
      "2023-08-24 20:03:05,837 - WARNING  - findfont: Font family 'Heiti TC' not found.\n",
      "2023-08-24 20:03:05,839 - WARNING  - findfont: Font family 'Heiti TC' not found.\n",
      "2023-08-24 20:03:05,841 - WARNING  - findfont: Font family 'Heiti TC' not found.\n",
      "2023-08-24 20:03:05,844 - WARNING  - findfont: Font family 'Heiti TC' not found.\n",
      "2023-08-24 20:03:05,855 - WARNING  - findfont: Font family 'Heiti TC' not found.\n",
      "2023-08-24 20:03:05,856 - WARNING  - findfont: Font family 'Heiti TC' not found.\n",
      "2023-08-24 20:03:05,858 - WARNING  - findfont: Font family 'Heiti TC' not found.\n",
      "2023-08-24 20:03:05,859 - WARNING  - findfont: Font family 'Heiti TC' not found.\n",
      "2023-08-24 20:03:05,876 - WARNING  - findfont: Font family 'Heiti TC' not found.\n",
      "2023-08-24 20:03:05,960 - WARNING  - findfont: Font family 'Heiti TC' not found.\n",
      "2023-08-24 20:03:05,963 - WARNING  - findfont: Font family 'Heiti TC' not found.\n",
      "2023-08-24 20:03:05,966 - WARNING  - findfont: Font family 'Heiti TC' not found.\n",
      "2023-08-24 20:03:05,969 - WARNING  - findfont: Font family 'Heiti TC' not found.\n",
      "2023-08-24 20:03:05,971 - WARNING  - findfont: Font family 'Heiti TC' not found.\n",
      "2023-08-24 20:03:05,973 - WARNING  - findfont: Font family 'Heiti TC' not found.\n",
      "2023-08-24 20:03:05,975 - WARNING  - findfont: Font family 'Heiti TC' not found.\n",
      "2023-08-24 20:03:05,978 - WARNING  - findfont: Font family 'Heiti TC' not found.\n",
      "2023-08-24 20:03:05,988 - WARNING  - findfont: Font family 'Heiti TC' not found.\n",
      "2023-08-24 20:03:05,995 - WARNING  - findfont: Font family 'Heiti TC' not found.\n",
      "2023-08-24 20:03:05,999 - WARNING  - findfont: Font family 'Heiti TC' not found.\n",
      "2023-08-24 20:03:06,013 - WARNING  - findfont: Font family 'Heiti TC' not found.\n",
      "2023-08-24 20:03:06,019 - WARNING  - findfont: Font family 'Heiti TC' not found.\n",
      "2023-08-24 20:03:06,021 - WARNING  - findfont: Font family 'Heiti TC' not found.\n",
      "2023-08-24 20:03:06,028 - WARNING  - findfont: Font family 'Heiti TC' not found.\n",
      "2023-08-24 20:03:06,031 - WARNING  - findfont: Font family 'Heiti TC' not found.\n",
      "2023-08-24 20:03:06,033 - WARNING  - findfont: Font family 'Heiti TC' not found.\n",
      "2023-08-24 20:03:06,035 - WARNING  - findfont: Font family 'Heiti TC' not found.\n",
      "2023-08-24 20:03:06,038 - WARNING  - findfont: Font family 'Heiti TC' not found.\n",
      "2023-08-24 20:03:06,044 - WARNING  - findfont: Font family 'Heiti TC' not found.\n",
      "2023-08-24 20:03:06,046 - WARNING  - findfont: Font family 'Heiti TC' not found.\n",
      "2023-08-24 20:03:06,049 - WARNING  - findfont: Font family 'Heiti TC' not found.\n",
      "2023-08-24 20:03:06,053 - WARNING  - findfont: Font family 'Heiti TC' not found.\n",
      "2023-08-24 20:03:06,158 - WARNING  - findfont: Font family 'Heiti TC' not found.\n",
      "2023-08-24 20:03:06,159 - WARNING  - findfont: Font family 'Heiti TC' not found.\n",
      "2023-08-24 20:03:06,160 - WARNING  - findfont: Font family 'Heiti TC' not found.\n",
      "2023-08-24 20:03:06,165 - WARNING  - findfont: Font family 'Heiti TC' not found.\n",
      "2023-08-24 20:03:06,173 - WARNING  - findfont: Font family 'Heiti TC' not found.\n",
      "2023-08-24 20:03:06,179 - WARNING  - findfont: Font family 'Heiti TC' not found.\n",
      "2023-08-24 20:03:06,182 - WARNING  - findfont: Font family 'Heiti TC' not found.\n",
      "2023-08-24 20:03:06,189 - WARNING  - findfont: Font family 'Heiti TC' not found.\n",
      "2023-08-24 20:03:06,191 - WARNING  - findfont: Font family 'Heiti TC' not found.\n",
      "2023-08-24 20:03:06,195 - WARNING  - findfont: Font family 'Heiti TC' not found.\n",
      "2023-08-24 20:03:06,198 - WARNING  - findfont: Font family 'Heiti TC' not found.\n",
      "2023-08-24 20:03:06,301 - WARNING  - findfont: Font family 'Heiti TC' not found.\n",
      "2023-08-24 20:03:06,303 - WARNING  - findfont: Font family 'Heiti TC' not found.\n",
      "2023-08-24 20:03:06,306 - WARNING  - findfont: Font family 'Heiti TC' not found.\n",
      "2023-08-24 20:03:06,308 - WARNING  - findfont: Font family 'Heiti TC' not found.\n",
      "2023-08-24 20:03:06,310 - WARNING  - findfont: Font family 'Heiti TC' not found.\n",
      "2023-08-24 20:03:06,319 - WARNING  - findfont: Font family 'Heiti TC' not found.\n",
      "2023-08-24 20:03:06,321 - WARNING  - findfont: Font family 'Heiti TC' not found.\n",
      "2023-08-24 20:03:06,323 - WARNING  - findfont: Font family 'Heiti TC' not found.\n",
      "2023-08-24 20:03:06,325 - WARNING  - findfont: Font family 'Heiti TC' not found.\n",
      "2023-08-24 20:03:06,327 - WARNING  - findfont: Font family 'Heiti TC' not found.\n",
      "2023-08-24 20:03:06,334 - WARNING  - findfont: Font family 'Heiti TC' not found.\n",
      "/home/user/.local/lib/python3.8/site-packages/seaborn/matrix.py:309: UserWarning:\n",
      "\n",
      "Attempting to set identical low and high xlims makes transformation singular; automatically expanding.\n",
      "\n",
      "/home/user/.local/lib/python3.8/site-packages/seaborn/matrix.py:309: UserWarning:\n",
      "\n",
      "Attempting to set identical low and high ylims makes transformation singular; automatically expanding.\n",
      "\n",
      "2023-08-24 20:03:14,628 - WARNING  - findfont: Font family 'Heiti TC' not found.\n",
      "2023-08-24 20:03:14,630 - WARNING  - findfont: Font family 'Heiti TC' not found.\n",
      "2023-08-24 20:03:14,634 - WARNING  - findfont: Font family 'Heiti TC' not found.\n",
      "2023-08-24 20:03:14,644 - WARNING  - findfont: Font family 'Heiti TC' not found.\n",
      "2023-08-24 20:03:14,647 - WARNING  - findfont: Font family 'Heiti TC' not found.\n",
      "2023-08-24 20:03:14,661 - WARNING  - findfont: Font family 'Heiti TC' not found.\n",
      "2023-08-24 20:03:14,667 - WARNING  - findfont: Font family 'Heiti TC' not found.\n",
      "2023-08-24 20:03:14,673 - WARNING  - findfont: Font family 'Heiti TC' not found.\n",
      "2023-08-24 20:03:14,681 - WARNING  - findfont: Font family 'Heiti TC' not found.\n",
      "2023-08-24 20:03:14,685 - WARNING  - findfont: Font family 'Heiti TC' not found.\n",
      "2023-08-24 20:03:14,692 - WARNING  - findfont: Font family 'Heiti TC' not found.\n",
      "2023-08-24 20:03:14,697 - WARNING  - findfont: Font family 'Heiti TC' not found.\n",
      "2023-08-24 20:03:14,701 - WARNING  - findfont: Font family 'Heiti TC' not found.\n",
      "2023-08-24 20:03:14,708 - WARNING  - findfont: Font family 'Heiti TC' not found.\n",
      "2023-08-24 20:03:14,713 - WARNING  - findfont: Font family 'Heiti TC' not found.\n",
      "2023-08-24 20:03:14,716 - WARNING  - findfont: Font family 'Heiti TC' not found.\n",
      "2023-08-24 20:03:14,721 - WARNING  - findfont: Font family 'Heiti TC' not found.\n",
      "2023-08-24 20:03:14,725 - WARNING  - findfont: Font family 'Heiti TC' not found.\n",
      "2023-08-24 20:03:14,728 - WARNING  - findfont: Font family 'Heiti TC' not found.\n",
      "2023-08-24 20:03:14,765 - WARNING  - findfont: Font family 'Heiti TC' not found.\n",
      "2023-08-24 20:03:14,770 - WARNING  - findfont: Font family 'Heiti TC' not found.\n",
      "2023-08-24 20:03:14,775 - WARNING  - findfont: Font family 'Heiti TC' not found.\n",
      "2023-08-24 20:03:14,776 - WARNING  - findfont: Font family 'Heiti TC' not found.\n",
      "2023-08-24 20:03:14,778 - WARNING  - findfont: Font family 'Heiti TC' not found.\n",
      "2023-08-24 20:03:14,782 - WARNING  - findfont: Font family 'Heiti TC' not found.\n",
      "2023-08-24 20:03:14,790 - WARNING  - findfont: Font family 'Heiti TC' not found.\n",
      "2023-08-24 20:03:14,794 - WARNING  - findfont: Font family 'Heiti TC' not found.\n",
      "2023-08-24 20:03:14,811 - WARNING  - findfont: Font family 'Heiti TC' not found.\n",
      "2023-08-24 20:03:14,815 - WARNING  - findfont: Font family 'Heiti TC' not found.\n",
      "2023-08-24 20:03:14,820 - WARNING  - findfont: Font family 'Heiti TC' not found.\n",
      "2023-08-24 20:03:14,825 - WARNING  - findfont: Font family 'Heiti TC' not found.\n",
      "2023-08-24 20:03:14,829 - WARNING  - findfont: Font family 'Heiti TC' not found.\n",
      "2023-08-24 20:03:14,835 - WARNING  - findfont: Font family 'Heiti TC' not found.\n",
      "2023-08-24 20:03:14,843 - WARNING  - findfont: Font family 'Heiti TC' not found.\n",
      "2023-08-24 20:03:14,846 - WARNING  - findfont: Font family 'Heiti TC' not found.\n",
      "2023-08-24 20:03:14,853 - WARNING  - findfont: Font family 'Heiti TC' not found.\n",
      "2023-08-24 20:03:14,857 - WARNING  - findfont: Font family 'Heiti TC' not found.\n",
      "2023-08-24 20:03:14,860 - WARNING  - findfont: Font family 'Heiti TC' not found.\n",
      "2023-08-24 21:06:37,418 - INFO     - Executing shutdown due to inactivity...\n",
      "2023-08-24 21:06:37,431 - INFO     - Executing shutdown...\n",
      "2023-08-24 21:06:37,433 - ERROR    - Exception on /shutdown [GET]\n",
      "Traceback (most recent call last):\n",
      "  File \"/home/user/.local/lib/python3.8/site-packages/flask/app.py\", line 2529, in wsgi_app\n",
      "    response = self.full_dispatch_request()\n",
      "  File \"/home/user/.local/lib/python3.8/site-packages/flask/app.py\", line 1825, in full_dispatch_request\n",
      "    rv = self.handle_user_exception(e)\n",
      "  File \"/home/user/.local/lib/python3.8/site-packages/flask/app.py\", line 1823, in full_dispatch_request\n",
      "    rv = self.dispatch_request()\n",
      "  File \"/home/user/.local/lib/python3.8/site-packages/flask/app.py\", line 1799, in dispatch_request\n",
      "    return self.ensure_sync(self.view_functions[rule.endpoint])(**view_args)\n",
      "  File \"/home/user/.local/lib/python3.8/site-packages/dtale/app.py\", line 440, in shutdown\n",
      "    shutdown_server()\n",
      "  File \"/home/user/.local/lib/python3.8/site-packages/dtale/app.py\", line 426, in shutdown_server\n",
      "    raise RuntimeError(\"Not running with the Werkzeug Server\")\n",
      "RuntimeError: Not running with the Werkzeug Server\n"
     ]
    }
   ],
   "source": [
    "import dtale\n",
    "\n",
    "dtale.show(dataset)\n"
   ]
  },
  {
   "cell_type": "markdown",
   "metadata": {},
   "source": [
    "## Ejercicio 1: Descripción de los Datos y la Tarea\n",
    "\n",
    "Responder las siguientes preguntas:\n",
    "\n",
    "1. ¿De qué se trata el conjunto de datos?\n",
    "2. ¿Cuál es la variable objetivo que hay que predecir? ¿Qué significado tiene?\n",
    "3. ¿Qué información (atributos) hay disponible para hacer la predicción?\n",
    "4. ¿Qué atributos imagina ud. que son los más determinantes para la predicción?\n",
    "\n",
    "**No hace falta escribir código para responder estas preguntas.**"
   ]
  },
  {
   "cell_type": "markdown",
   "metadata": {},
   "source": [
    "### Resolución"
   ]
  },
  {
   "cell_type": "markdown",
   "metadata": {},
   "source": [
    "#### 1) Descripción del dataset\n",
    "\n",
    "El conjunto de datos se trata de la informacion de los prestamos hipotecarios otorgados por un banco."
   ]
  },
  {
   "cell_type": "markdown",
   "metadata": {},
   "source": [
    "#### 2) Variable objetivo\n",
    "\n",
    "El departamento de créditos de un banco quiere automatizar el proceso de aprobación de los créditos hipotecarios. La variable objetivo indica si el crédito estará en mora o si será pagado en término.\n",
    "\n",
    "La variable target es un atributo binario con los siguientes significados:\n",
    "- 1: no ha pagado el préstamo \n",
    "- 0: el préstamo ha sido pagado."
   ]
  },
  {
   "cell_type": "markdown",
   "metadata": {},
   "source": [
    "#### 3) Variables independientes\n",
    "\n",
    "Estas son las variables independientes:\n",
    "\n",
    "- LOAN: monto total del préstamo\n",
    "- MORTDUE: monto adeudado\n",
    "- VALUE: valor del inmueble\n",
    "- YOJ: antigüedad en el trabajo\n",
    "- DEROG: cantidad de informes negativos\n",
    "- DELINQ: cantidad de créditos morosos\n",
    "- CLAGE: antigüedad de la línea comercial más antigua en meses\n",
    "- NINQ: cantidad de líneas de crédito recientes\n",
    "- CLINQ: cantidad de líneas de crédito\n",
    "- DEBTINC: tasa entre deuda e ingresos mensuales\n"
   ]
  },
  {
   "cell_type": "markdown",
   "metadata": {},
   "source": [
    "#### 4) Atributos importantes para la predicción \n",
    "\n",
    "Los atributos mas importantes serían:\n",
    " - el monto del credito (LOAN); se entiende que un monto alto tiene más riesgo, \n",
    " - el historial crediticio (DEROG,DELINQ); esto permite entender si el cliente es buen o mal pagador, \n",
    " - la relación entre sus ingresos y deudas (DEBTINC); este dato es útil para saber si puede o afrontar el crédito."
   ]
  },
  {
   "cell_type": "markdown",
   "metadata": {},
   "source": [
    "## Ejercicio 2: Predicción con Modelos Lineales\n",
    "\n",
    "En este ejercicio se entrenarán modelos lineales de clasificación para predecir la variable objetivo.\n",
    "\n",
    "Para ello, deberán utilizar la clase SGDClassifier de scikit-learn.\n",
    "\n",
    "Documentación:\n",
    "- https://scikit-learn.org/stable/modules/sgd.html\n",
    "- https://scikit-learn.org/stable/modules/generated/sklearn.linear_model.SGDClassifier.html"
   ]
  },
  {
   "cell_type": "markdown",
   "metadata": {},
   "source": [
    "### Resolución"
   ]
  },
  {
   "cell_type": "markdown",
   "metadata": {},
   "source": [
    "### Ejercicio 2.1: SGDClassifier con hiperparámetros por defecto\n",
    "\n",
    "Entrenar y evaluar el clasificador SGDClassifier usando los valores por omisión de scikit-learn para todos los parámetros. Únicamente **fijar la semilla aleatoria** para hacer repetible el experimento.\n",
    "\n",
    "Evaluar sobre el conjunto de **entrenamiento** y sobre el conjunto de **evaluación**, reportando:\n",
    "- Accuracy\n",
    "- Precision\n",
    "- Recall\n",
    "- F1\n",
    "- matriz de confusión"
   ]
  },
  {
   "cell_type": "markdown",
   "metadata": {},
   "source": [
    "#### 2.1.1) Clasificación base"
   ]
  },
  {
   "cell_type": "markdown",
   "metadata": {},
   "source": [
    "El dataset se estructura para poder utilizarlo en el modelo de clasificación."
   ]
  },
  {
   "cell_type": "code",
   "execution_count": 18,
   "metadata": {},
   "outputs": [
    {
     "name": "stdout",
     "output_type": "stream",
     "text": [
      "Vars. independientes X: \n",
      "     LOAN  MORTDUE     VALUE   YOJ  DEROG  DELINQ       CLAGE  NINQ  CLNO  \\\n",
      "0   4700  88026.0  115506.0   6.0    0.0     0.0  182.248332   0.0  27.0   \n",
      "1  19300  39926.0  101208.0   4.0    0.0     0.0  140.051638   0.0  14.0   \n",
      "2   5700  71556.0   79538.0   2.0    0.0     0.0   92.643085   0.0  15.0   \n",
      "3  13000  44875.0   57713.0   0.0    1.0     0.0  184.990324   1.0  12.0   \n",
      "4  19300  72752.0  106084.0  11.0    0.0     0.0  193.707100   1.0  13.0   \n",
      "\n",
      "     DEBTINC  \n",
      "0  29.209023  \n",
      "1  31.545694  \n",
      "2  41.210012  \n",
      "3  28.602076  \n",
      "4  30.686106  \n",
      "\n",
      "\n",
      "Etiquetas y: \n",
      " 0    0\n",
      "1    0\n",
      "2    0\n",
      "3    0\n",
      "4    0\n",
      "Name: TARGET, dtype: int64\n"
     ]
    }
   ],
   "source": [
    "# previamente se extrajeron del dataset las variables independientes X y las etiquetas y\n",
    "print(\"Vars. independientes X: \\n\", X.head(5)) \n",
    "print(\"\\n\")\n",
    "print(\"Etiquetas y: \\n\", y.head(5))\n"
   ]
  },
  {
   "cell_type": "code",
   "execution_count": 17,
   "metadata": {},
   "outputs": [
    {
     "name": "stdout",
     "output_type": "stream",
     "text": [
      "X_train:  (1483, 10)\n",
      "X_test:  (371, 10)\n",
      "y_train:  (1483,)\n",
      "y_test:  (371,)\n"
     ]
    }
   ],
   "source": [
    "# X e y también fueron separados en subconjuntos de train y test\n",
    "print(\"X_train: \", X_train.shape) \n",
    "print(\"X_test: \", X_test.shape) \n",
    "print(\"y_train: \", y_train.shape) \n",
    "print(\"y_test: \", y_test.shape) \n"
   ]
  },
  {
   "cell_type": "markdown",
   "metadata": {},
   "source": [
    "\n",
    "Solo se incluye el subconjunto de variables independientes consideradas significativas para el modelo."
   ]
  },
  {
   "cell_type": "code",
   "execution_count": 19,
   "metadata": {},
   "outputs": [
    {
     "name": "stdout",
     "output_type": "stream",
     "text": [
      "X_train_sel:  (1483, 4)\n",
      "X_test_sel:  (371, 4)\n"
     ]
    }
   ],
   "source": [
    "selected_features = ['LOAN','DEROG', 'DELINQ', 'DEBTINC']\n",
    "\n",
    "X_train_sel = X_train[selected_features]\n",
    "X_test_sel = X_test[selected_features]\n",
    "\n",
    "print(\"X_train_sel: \", X_train_sel.shape) \n",
    "print(\"X_test_sel: \", X_test_sel.shape) "
   ]
  },
  {
   "cell_type": "markdown",
   "metadata": {},
   "source": [
    "Se utilizará el clasificador SGDClassifier con los parámetros por default. De estos parámetros por default, los más importantes son:\n",
    " - *loss*: es la función de pérdida a utilizar; por defecto es *'hinge'* correspondiente a Support Vector Machine\n",
    " - *penalty*: el término de regularización a aplicar; por defecto es *'l2'*\n",
    " - *alpha*: es una constante que multiplica al término de regularización; por defecto es *0,0001*\n",
    "\n",
    " Además como el algoritmo SGD es sensible al escalado de variables, se aplicará estandarización a las mismas."
   ]
  },
  {
   "cell_type": "code",
   "execution_count": 23,
   "metadata": {},
   "outputs": [],
   "source": [
    "# se inicializan transformer y estimator con parámetros default\n",
    "scaler = StandardScaler()\n",
    "classifier = SGDClassifier(random_state=0)\n",
    "\n",
    "# se aplica estandarización a los features seleccionados\n",
    "X_train_scaled = scaler.fit_transform(X_train_sel)\n",
    "X_test_scaled = scaler.fit_transform(X_test_sel)\n",
    "\n",
    "# se ajusta modelo con conjunto de datos escalado\n",
    "classifier.fit(X_train_scaled, y_train)\n",
    "\n",
    "# con el modelo entrenado se calculan las etiquetas para las observaciones del conjunto de prueba\n",
    "y_pred = classifier.predict(X_test_scaled)"
   ]
  },
  {
   "cell_type": "markdown",
   "metadata": {},
   "source": [
    "#### 2.1.2) Evaluación"
   ]
  },
  {
   "cell_type": "markdown",
   "metadata": {},
   "source": [
    "A partir de la *matriz de confusión* que produce la comparación entre los valores reales provenientes del dataset original y los valores predichos por el modelo entrenado es posible evaluar la performance del modelo en base a varias métricas.\n",
    "\n",
    "| Matriz de Confusión| Positivo | Negativo |\n",
    "|------|-------|-------|\n",
    "| Positivo | a | b |\n",
    "| Negativo | c | d |\n",
    "\n",
    "- Las columnas de las matriz representan los valores reales observados en el dataset\n",
    "- Las filas de la matriz representan los valores predichos por el modelo\n",
    "- El valor *a* representa los positivos verdaderos (el modelo predijo positivo, y eso es correcto)\n",
    "- El valor *d* representa los negativos verdaderos (el modelo predijo negativo, y eso es correcto)\n",
    "- El valor *b* representa los positivos falsos (el modelo predijo positivo, pero eso es incorrecto)\n",
    "- El valor *c* representa los negativos falsos (el modelo predijo negativo, pero eso es incorrecto)\n",
    "\n",
    "Se evalúa la performance del modelo entrenado en base a las siguientes métricas:\n",
    "\n",
    "- *Accuracy (exactitud)*: representa la proporción de predicciones correctas sobre el total de predicciones\n",
    "  - $Accuracy = \\frac {a + d} {a + b + c + d}$\n",
    "- *Precision (precisión)*: representa la proporción de predicciones positivas correctas sobre el total de predicciones positivas\n",
    "  - $Precision = \\frac {a} {a + b}$\n",
    "- *Recall*: representa la proporción de predicciones positivas/negativas correctas sobre el total de valores reales positivos/negativos\n",
    "  - $Recall (positiva) = \\frac {a} {a + c}$\n",
    "  - $Recall (negativa)= \\frac {d} {b + d}$\n",
    "- *F1 score*: es un promedio armónico (las medias armónicas disminuyen la influencia de valores grandes) entre *precision* y *recall*\n",
    "\n",
    "> Cabe aclarar que en nuestro caso se entiende que los valores positivo y negativo de la matriz de confusión se relacionan a los valores de la variable objetivo de la siguiente manera:\n",
    "> - Positivo = 0 (el préstamo ha sido pagado)\n",
    "> - Negativo = 1 (no se ha pagado el préstamo) \n"
   ]
  },
  {
   "cell_type": "code",
   "execution_count": 28,
   "metadata": {},
   "outputs": [
    {
     "name": "stdout",
     "output_type": "stream",
     "text": [
      "Matriz de Confusión:\n",
      "[[300  13]\n",
      " [ 41  17]]\n",
      "\n",
      "\n",
      "Métricas de performance:\n",
      "              precision    recall  f1-score   support\n",
      "\n",
      "           0       0.88      0.96      0.92       313\n",
      "           1       0.57      0.29      0.39        58\n",
      "\n",
      "    accuracy                           0.85       371\n",
      "   macro avg       0.72      0.63      0.65       371\n",
      "weighted avg       0.83      0.85      0.83       371\n",
      "\n"
     ]
    }
   ],
   "source": [
    "print(\"Matriz de Confusión:\")\n",
    "print(confusion_matrix(y_test, y_pred))\n",
    "\n",
    "print(\"\\n\")\n",
    "\n",
    "print(\"Métricas de performance:\")\n",
    "print(classification_report(y_test, y_pred))"
   ]
  },
  {
   "cell_type": "markdown",
   "metadata": {},
   "source": [
    "Este resultado nos indica que la *accuracy* obtenida es de 0,85.\n",
    "\n",
    "Sin embargo debe considerarse que, como se observo al explorar las variables, la variable objetivo *TARGET* presenta dos clases (0 y 1) que están desbalanceadas; esto influenciaría el modelo entrenado al tener muchas observaciones para detectar casos en los que el crédito se ha pagado (valores positivos), pero pocos casos para poder predecir con mayor calidad los casos en los que el crédito no se pagó (valores negativos).\n",
    "\n",
    "Este desbalanceo provoca que la métrica *accuracy* quede influenciada por los valores positivos; para corregir esta situación se utiliza la *balanced accuracy* que representa la media aritmética de las *recalls* positivas y negativas\n",
    "- $Balanced \\text{ } accuracy = \\frac {Recall (positiva) + Recall (negativa)} {2} = \\frac {1} {2} (\\frac {a} {a+c} + \\frac {d} {b+d})$"
   ]
  },
  {
   "cell_type": "code",
   "execution_count": 31,
   "metadata": {},
   "outputs": [
    {
     "name": "stdout",
     "output_type": "stream",
     "text": [
      "Accuracy balanceada:\n",
      "0.63\n"
     ]
    }
   ],
   "source": [
    "print(\"Accuracy balanceada:\")\n",
    "print(round(balanced_accuracy_score(y_test, y_pred),2))"
   ]
  },
  {
   "cell_type": "markdown",
   "metadata": {},
   "source": [
    "Este valor coincide con el valor *macro avg* debajo de la columna *recall* de la matriz de métricas."
   ]
  },
  {
   "cell_type": "markdown",
   "metadata": {},
   "source": [
    "### Ejercicio 2.2: Ajuste de Hiperparámetros\n",
    "\n",
    "Seleccionar valores para los hiperparámetros principales del SGDClassifier. Como mínimo, probar diferentes funciones de loss, tasas de entrenamiento y tasas de regularización.\n",
    "\n",
    "Para ello, usar grid-search y 5-fold cross-validation sobre el conjunto de entrenamiento para explorar muchas combinaciones posibles de valores.\n",
    "\n",
    "Reportar accuracy promedio y varianza para todas las configuraciones.\n",
    "\n",
    "Para la mejor configuración encontrada, evaluar sobre el conjunto de **entrenamiento** y sobre el conjunto de **evaluación**, reportando:\n",
    "- Accuracy\n",
    "- Precision\n",
    "- Recall\n",
    "- F1\n",
    "- matriz de confusión\n",
    "\n",
    "Documentación:\n",
    "- https://scikit-learn.org/stable/modules/grid_search.html\n",
    "- https://scikit-learn.org/stable/modules/generated/sklearn.model_selection.GridSearchCV.html"
   ]
  },
  {
   "cell_type": "markdown",
   "metadata": {},
   "source": [
    "#### 2.2.1) Comparación de modelos con GridSearch y k-fold Cross Validation"
   ]
  },
  {
   "cell_type": "markdown",
   "metadata": {},
   "source": [
    "Aprovechando la función *GridSearchCV* se recorrerá el espacio de parámetros del estimador *SGDClassifier* generando modelos candidatos a partir de una grilla de parámetros que incluyen:\n",
    "- *loss*: función de pérdida;\n",
    "  - log_loss: regresión logística\n",
    "  - hinge: SVM lineal\n",
    "  - perceptron: funciín de pérdida para el algoritmo del perceptrón\n",
    "- *penalty*: término de regularización;\n",
    "- *alpha*: constante que multiplica al término de regularización;\n"
   ]
  },
  {
   "cell_type": "markdown",
   "metadata": {},
   "source": [
    "La bósqueda de parámetros se completa utilizando una estrategia definida en la función *refit_strategy*, que esencialmente evalúa los modelos surgidos a partir de las combinaciones de parámetros y descarta los que no alcancen un determinado umbral de *accuracy* (arbitrariamente el umbral seleccionado es de 0.86), para finalmente seleccionar de entre los mejores modelos al más rápido.\n",
    "\n",
    "Para realizar la búsqueda de parámetros la función *GridSearchCV* se vale del procedimiento *k-fold cross-validation (CV)* en el que se parte el conjunto de entrenamiento en *k* partes (*folds*) y se ejecuta el entrenamiento sobre cada una de las partes, para luego promediar los scores buscados."
   ]
  },
  {
   "cell_type": "code",
   "execution_count": 42,
   "metadata": {},
   "outputs": [],
   "source": [
    "scores = [\"accuracy\"]"
   ]
  },
  {
   "cell_type": "code",
   "execution_count": 53,
   "metadata": {},
   "outputs": [],
   "source": [
    "import pandas as pd\n",
    "\n",
    "\n",
    "def print_dataframe(filtered_cv_results):\n",
    "    \"\"\"Pretty print for filtered dataframe\"\"\"\n",
    "    for mean_accuracy, std_accuracy, params in zip(\n",
    "        filtered_cv_results[\"mean_test_accuracy\"],\n",
    "        filtered_cv_results[\"std_test_accuracy\"],\n",
    "        filtered_cv_results[\"params\"],\n",
    "    ):\n",
    "        print(\n",
    "            f\"accuracy: {mean_accuracy:0.3f} (±{std_accuracy:0.03f}),\"\n",
    "            f\" para {params}\"\n",
    "        )\n",
    "    print()\n",
    "\n",
    "\n",
    "def refit_strategy(cv_results):\n",
    "    \"\"\"Define la estrategia para seleccionar el mejor estimador.\n",
    "\n",
    "\n",
    "    La estrategia definida consiste en descartar todos los resultados por debajo de un umbral de accuracy\n",
    "    de 0.86. Una vez que estos modelos fueron seleccionados, se puede seleccionar \n",
    "    el modelo más rápido para predecir.\n",
    "\n",
    "    Parametros\n",
    "    ----------\n",
    "    cv_results : dict of numpy (masked) ndarrays\n",
    "        Resultados CV como los devuelve `GridSearchCV`.\n",
    "\n",
    "    Devuelve\n",
    "    --------\n",
    "    best_index : int\n",
    "        El índice del mejor estimador tal como aparece en `cv_results`.\n",
    "    \"\"\"\n",
    "    # mostrar la info sobre el  grid-search para los scores definidos\n",
    "    accuracy_threshold = 0.86\n",
    "\n",
    "    cv_results_ = pd.DataFrame(cv_results)\n",
    "    print(\"Todos los resultados del grid-search:\")\n",
    "    print_dataframe(cv_results_)\n",
    "\n",
    "    # Descartar todos los resultados por debajo del umbral\n",
    "    high_accuracy_cv_results = cv_results_[\n",
    "        cv_results_[\"mean_test_accuracy\"] > accuracy_threshold\n",
    "    ]\n",
    "\n",
    "    print(f\"Modelos con una accuracy mayor a {accuracy_threshold}:\")\n",
    "    print_dataframe(high_accuracy_cv_results)\n",
    "\n",
    "    high_accuracy_cv_results = high_accuracy_cv_results[\n",
    "        [\n",
    "            \"mean_score_time\",\n",
    "            \"mean_test_accuracy\",\n",
    "            \"std_test_accuracy\",\n",
    "            \"params\",\n",
    "        ]\n",
    "    ]\n",
    "\n",
    "    # De entre los mejores candidatos, se selecciona el modelo más rápido para predecir\n",
    "    fastest_high_accuracy_index = high_accuracy_cv_results[\n",
    "        \"mean_score_time\"\n",
    "    ].idxmin()\n",
    "\n",
    "    print(\n",
    "        \"\\nEl modelo final seleccionado es el más rápido para predecir de entre el\\n\"\n",
    "        \"subconjunto de mejores modelos seleccionados previamente en base a su accuracy.\\n\"\n",
    "        \"Su tiempo de cálculo es:\\n\\n\"\n",
    "        f\"{high_accuracy_cv_results.loc[fastest_high_accuracy_index]}\"\n",
    "    )\n",
    "\n",
    "    return fastest_high_accuracy_index"
   ]
  },
  {
   "cell_type": "code",
   "execution_count": 55,
   "metadata": {},
   "outputs": [
    {
     "name": "stdout",
     "output_type": "stream",
     "text": [
      "Todos los resultados del grid-search:\n",
      "accuracy: 0.858 (±0.025), for {'alpha': 0.0001, 'loss': 'log_loss', 'penalty': 'l1'}\n",
      "accuracy: 0.857 (±0.024), for {'alpha': 0.0001, 'loss': 'log_loss', 'penalty': 'l2'}\n",
      "accuracy: 0.832 (±0.024), for {'alpha': 0.0001, 'loss': 'hinge', 'penalty': 'l1'}\n",
      "accuracy: 0.827 (±0.034), for {'alpha': 0.0001, 'loss': 'hinge', 'penalty': 'l2'}\n",
      "accuracy: 0.754 (±0.129), for {'alpha': 0.0001, 'loss': 'perceptron', 'penalty': 'l1'}\n",
      "accuracy: 0.829 (±0.013), for {'alpha': 0.0001, 'loss': 'perceptron', 'penalty': 'l2'}\n",
      "accuracy: 0.869 (±0.010), for {'alpha': 0.01, 'loss': 'log_loss', 'penalty': 'l1'}\n",
      "accuracy: 0.866 (±0.013), for {'alpha': 0.01, 'loss': 'log_loss', 'penalty': 'l2'}\n",
      "accuracy: 0.856 (±0.005), for {'alpha': 0.01, 'loss': 'hinge', 'penalty': 'l1'}\n",
      "accuracy: 0.859 (±0.009), for {'alpha': 0.01, 'loss': 'hinge', 'penalty': 'l2'}\n",
      "accuracy: 0.771 (±0.058), for {'alpha': 0.01, 'loss': 'perceptron', 'penalty': 'l1'}\n",
      "accuracy: 0.796 (±0.024), for {'alpha': 0.01, 'loss': 'perceptron', 'penalty': 'l2'}\n",
      "\n",
      "Modelos con una accuracy mayor a 0.86:\n",
      "accuracy: 0.869 (±0.010), for {'alpha': 0.01, 'loss': 'log_loss', 'penalty': 'l1'}\n",
      "accuracy: 0.866 (±0.013), for {'alpha': 0.01, 'loss': 'log_loss', 'penalty': 'l2'}\n",
      "\n",
      "\n",
      "El modelo final seleccionado es el más rápido para predecir de entre el\n",
      "subconjunto de mejores modelos seleccionados previamente en base a su accuracy.\n",
      "Su tiempo de cálculo es:\n",
      "\n",
      "mean_score_time                                                0.000803\n",
      "mean_test_accuracy                                             0.868507\n",
      "std_test_accuracy                                              0.010263\n",
      "params                {'alpha': 0.01, 'loss': 'log_loss', 'penalty':...\n",
      "Name: 6, dtype: object\n"
     ]
    },
    {
     "data": {
      "text/html": [
       "<style>#sk-container-id-7 {color: black;}#sk-container-id-7 pre{padding: 0;}#sk-container-id-7 div.sk-toggleable {background-color: white;}#sk-container-id-7 label.sk-toggleable__label {cursor: pointer;display: block;width: 100%;margin-bottom: 0;padding: 0.3em;box-sizing: border-box;text-align: center;}#sk-container-id-7 label.sk-toggleable__label-arrow:before {content: \"▸\";float: left;margin-right: 0.25em;color: #696969;}#sk-container-id-7 label.sk-toggleable__label-arrow:hover:before {color: black;}#sk-container-id-7 div.sk-estimator:hover label.sk-toggleable__label-arrow:before {color: black;}#sk-container-id-7 div.sk-toggleable__content {max-height: 0;max-width: 0;overflow: hidden;text-align: left;background-color: #f0f8ff;}#sk-container-id-7 div.sk-toggleable__content pre {margin: 0.2em;color: black;border-radius: 0.25em;background-color: #f0f8ff;}#sk-container-id-7 input.sk-toggleable__control:checked~div.sk-toggleable__content {max-height: 200px;max-width: 100%;overflow: auto;}#sk-container-id-7 input.sk-toggleable__control:checked~label.sk-toggleable__label-arrow:before {content: \"▾\";}#sk-container-id-7 div.sk-estimator input.sk-toggleable__control:checked~label.sk-toggleable__label {background-color: #d4ebff;}#sk-container-id-7 div.sk-label input.sk-toggleable__control:checked~label.sk-toggleable__label {background-color: #d4ebff;}#sk-container-id-7 input.sk-hidden--visually {border: 0;clip: rect(1px 1px 1px 1px);clip: rect(1px, 1px, 1px, 1px);height: 1px;margin: -1px;overflow: hidden;padding: 0;position: absolute;width: 1px;}#sk-container-id-7 div.sk-estimator {font-family: monospace;background-color: #f0f8ff;border: 1px dotted black;border-radius: 0.25em;box-sizing: border-box;margin-bottom: 0.5em;}#sk-container-id-7 div.sk-estimator:hover {background-color: #d4ebff;}#sk-container-id-7 div.sk-parallel-item::after {content: \"\";width: 100%;border-bottom: 1px solid gray;flex-grow: 1;}#sk-container-id-7 div.sk-label:hover label.sk-toggleable__label {background-color: #d4ebff;}#sk-container-id-7 div.sk-serial::before {content: \"\";position: absolute;border-left: 1px solid gray;box-sizing: border-box;top: 0;bottom: 0;left: 50%;z-index: 0;}#sk-container-id-7 div.sk-serial {display: flex;flex-direction: column;align-items: center;background-color: white;padding-right: 0.2em;padding-left: 0.2em;position: relative;}#sk-container-id-7 div.sk-item {position: relative;z-index: 1;}#sk-container-id-7 div.sk-parallel {display: flex;align-items: stretch;justify-content: center;background-color: white;position: relative;}#sk-container-id-7 div.sk-item::before, #sk-container-id-7 div.sk-parallel-item::before {content: \"\";position: absolute;border-left: 1px solid gray;box-sizing: border-box;top: 0;bottom: 0;left: 50%;z-index: -1;}#sk-container-id-7 div.sk-parallel-item {display: flex;flex-direction: column;z-index: 1;position: relative;background-color: white;}#sk-container-id-7 div.sk-parallel-item:first-child::after {align-self: flex-end;width: 50%;}#sk-container-id-7 div.sk-parallel-item:last-child::after {align-self: flex-start;width: 50%;}#sk-container-id-7 div.sk-parallel-item:only-child::after {width: 0;}#sk-container-id-7 div.sk-dashed-wrapped {border: 1px dashed gray;margin: 0 0.4em 0.5em 0.4em;box-sizing: border-box;padding-bottom: 0.4em;background-color: white;}#sk-container-id-7 div.sk-label label {font-family: monospace;font-weight: bold;display: inline-block;line-height: 1.2em;}#sk-container-id-7 div.sk-label-container {text-align: center;}#sk-container-id-7 div.sk-container {/* jupyter's `normalize.less` sets `[hidden] { display: none; }` but bootstrap.min.css set `[hidden] { display: none !important; }` so we also need the `!important` here to be able to override the default hidden behavior on the sphinx rendered scikit-learn.org. See: https://github.com/scikit-learn/scikit-learn/issues/21755 */display: inline-block !important;position: relative;}#sk-container-id-7 div.sk-text-repr-fallback {display: none;}</style><div id=\"sk-container-id-7\" class=\"sk-top-container\"><div class=\"sk-text-repr-fallback\"><pre>GridSearchCV(cv=5, estimator=SGDClassifier(random_state=0),\n",
       "             param_grid=[{&#x27;alpha&#x27;: [0.0001, 0.01],\n",
       "                          &#x27;loss&#x27;: [&#x27;log_loss&#x27;, &#x27;hinge&#x27;, &#x27;perceptron&#x27;],\n",
       "                          &#x27;penalty&#x27;: [&#x27;l1&#x27;, &#x27;l2&#x27;]}],\n",
       "             refit=&lt;function refit_strategy at 0x7f78e2bf01f0&gt;,\n",
       "             scoring=[&#x27;accuracy&#x27;])</pre><b>In a Jupyter environment, please rerun this cell to show the HTML representation or trust the notebook. <br />On GitHub, the HTML representation is unable to render, please try loading this page with nbviewer.org.</b></div><div class=\"sk-container\" hidden><div class=\"sk-item sk-dashed-wrapped\"><div class=\"sk-label-container\"><div class=\"sk-label sk-toggleable\"><input class=\"sk-toggleable__control sk-hidden--visually\" id=\"sk-estimator-id-19\" type=\"checkbox\" ><label for=\"sk-estimator-id-19\" class=\"sk-toggleable__label sk-toggleable__label-arrow\">GridSearchCV</label><div class=\"sk-toggleable__content\"><pre>GridSearchCV(cv=5, estimator=SGDClassifier(random_state=0),\n",
       "             param_grid=[{&#x27;alpha&#x27;: [0.0001, 0.01],\n",
       "                          &#x27;loss&#x27;: [&#x27;log_loss&#x27;, &#x27;hinge&#x27;, &#x27;perceptron&#x27;],\n",
       "                          &#x27;penalty&#x27;: [&#x27;l1&#x27;, &#x27;l2&#x27;]}],\n",
       "             refit=&lt;function refit_strategy at 0x7f78e2bf01f0&gt;,\n",
       "             scoring=[&#x27;accuracy&#x27;])</pre></div></div></div><div class=\"sk-parallel\"><div class=\"sk-parallel-item\"><div class=\"sk-item\"><div class=\"sk-label-container\"><div class=\"sk-label sk-toggleable\"><input class=\"sk-toggleable__control sk-hidden--visually\" id=\"sk-estimator-id-20\" type=\"checkbox\" ><label for=\"sk-estimator-id-20\" class=\"sk-toggleable__label sk-toggleable__label-arrow\">estimator: SGDClassifier</label><div class=\"sk-toggleable__content\"><pre>SGDClassifier(random_state=0)</pre></div></div></div><div class=\"sk-serial\"><div class=\"sk-item\"><div class=\"sk-estimator sk-toggleable\"><input class=\"sk-toggleable__control sk-hidden--visually\" id=\"sk-estimator-id-21\" type=\"checkbox\" ><label for=\"sk-estimator-id-21\" class=\"sk-toggleable__label sk-toggleable__label-arrow\">SGDClassifier</label><div class=\"sk-toggleable__content\"><pre>SGDClassifier(random_state=0)</pre></div></div></div></div></div></div></div></div></div></div>"
      ],
      "text/plain": [
       "GridSearchCV(cv=5, estimator=SGDClassifier(random_state=0),\n",
       "             param_grid=[{'alpha': [0.0001, 0.01],\n",
       "                          'loss': ['log_loss', 'hinge', 'perceptron'],\n",
       "                          'penalty': ['l1', 'l2']}],\n",
       "             refit=<function refit_strategy at 0x7f78e2bf01f0>,\n",
       "             scoring=['accuracy'])"
      ]
     },
     "execution_count": 55,
     "metadata": {},
     "output_type": "execute_result"
    }
   ],
   "source": [
    "tuned_parameters = [\n",
    "    {\"loss\": ['log_loss','hinge', 'perceptron'], \"penalty\": [\"l1\", \"l2\"], \"alpha\": [0.0001, 0.01]}\n",
    "]\n",
    "\n",
    "grid_search = GridSearchCV(\n",
    "    SGDClassifier(random_state=0), tuned_parameters, scoring=scores, refit=refit_strategy, cv=5  ## 5 es la cantidad por default de folds para la cross-validation\n",
    ")\n",
    "grid_search.fit(X_train_scaled, y_train)"
   ]
  },
  {
   "cell_type": "markdown",
   "metadata": {},
   "source": [
    "La búsqueda de parámetros arroja que el modelo con un *accuracy* aceptable (>0.86) y a la vez el más rápido es el modelo nro. 7 (con índice 6 en la lista de modelos *cv_result*). Este modelo tiene los siguientes parámetros:\n",
    "- 'alpha': 0.01, \n",
    "- 'loss': 'log_loss', \n",
    "- 'penalty': 'l1'"
   ]
  },
  {
   "cell_type": "markdown",
   "metadata": {},
   "source": [
    "#### 2.2.2) Predicción a partir del mejor modelo"
   ]
  },
  {
   "cell_type": "markdown",
   "metadata": {},
   "source": [
    "Tomando los parámetros del modelo nro 7, se procede a realizar la predicción sobre el conjunto de prueba."
   ]
  },
  {
   "cell_type": "code",
   "execution_count": 59,
   "metadata": {},
   "outputs": [],
   "source": [
    "# con el mejor modelo entrenado por la búsqueda de parámetros se calculan las etiquetas para las observaciones del conjunto de prueba\n",
    "y_pred = grid_search.predict(X_test_scaled)"
   ]
  },
  {
   "cell_type": "markdown",
   "metadata": {},
   "source": [
    "#### 2.2.3) Evaluación"
   ]
  },
  {
   "cell_type": "code",
   "execution_count": 57,
   "metadata": {},
   "outputs": [
    {
     "name": "stdout",
     "output_type": "stream",
     "text": [
      "Matriz de Confusión:\n",
      "[[311   2]\n",
      " [ 42  16]]\n",
      "\n",
      "\n",
      "Métricas de performance:\n",
      "              precision    recall  f1-score   support\n",
      "\n",
      "           0       0.88      0.99      0.93       313\n",
      "           1       0.89      0.28      0.42        58\n",
      "\n",
      "    accuracy                           0.88       371\n",
      "   macro avg       0.88      0.63      0.68       371\n",
      "weighted avg       0.88      0.88      0.85       371\n",
      "\n"
     ]
    }
   ],
   "source": [
    "print(\"Matriz de Confusión:\")\n",
    "print(confusion_matrix(y_test, y_pred))\n",
    "\n",
    "print(\"\\n\")\n",
    "\n",
    "print(\"Métricas de performance:\")\n",
    "print(classification_report(y_test, y_pred))"
   ]
  },
  {
   "cell_type": "markdown",
   "metadata": {},
   "source": [
    "En este caso el resultado es mejor que con el primer modelo arrojando una *accuracy* de 0,88.\n",
    "\n",
    "Pero el problema del desbalanceo persiste por lo que se calculará el *balanced accuracy*."
   ]
  },
  {
   "cell_type": "code",
   "execution_count": 58,
   "metadata": {},
   "outputs": [
    {
     "name": "stdout",
     "output_type": "stream",
     "text": [
      "Accuracy balanceada:\n",
      "0.63\n"
     ]
    }
   ],
   "source": [
    "print(\"Accuracy balanceada:\")\n",
    "print(round(balanced_accuracy_score(y_test, y_pred),2))"
   ]
  },
  {
   "cell_type": "markdown",
   "metadata": {},
   "source": [
    "Este valor es igual al del primer modelo, por lo que no se obtuvo una mejora en la predicción"
   ]
  }
 ],
 "metadata": {
  "kernelspec": {
   "display_name": "Python 3",
   "language": "python",
   "name": "python3"
  },
  "language_info": {
   "codemirror_mode": {
    "name": "ipython",
    "version": 3
   },
   "file_extension": ".py",
   "mimetype": "text/x-python",
   "name": "python",
   "nbconvert_exporter": "python",
   "pygments_lexer": "ipython3",
   "version": "3.8.10"
  }
 },
 "nbformat": 4,
 "nbformat_minor": 4
}
