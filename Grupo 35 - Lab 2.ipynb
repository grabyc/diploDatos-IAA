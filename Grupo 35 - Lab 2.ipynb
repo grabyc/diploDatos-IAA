{
 "cells": [
  {
   "cell_type": "markdown",
   "metadata": {},
   "source": [
    "# Laboratorio 2: Armado de un esquema de aprendizaje automático\n",
    "\n",
    "En el laboratorio final se espera que puedan poner en práctica los conocimientos adquiridos en el curso, trabajando con un conjunto de datos de clasificación.\n",
    "\n",
    "El objetivo es que se introduzcan en el desarrollo de un esquema para hacer tareas de aprendizaje automático: selección de un modelo, ajuste de hiperparámetros y evaluación.\n",
    "\n",
    "El conjunto de datos a utilizar está en `./data/loan_data.csv`. Si abren el archivo verán que al principio (las líneas que empiezan con `#`) describen el conjunto de datos y sus atributos (incluyendo el atributo de etiqueta o clase).\n",
    "\n",
    "Se espera que hagan uso de las herramientas vistas en el curso. Se espera que hagan uso especialmente de las herramientas brindadas por `scikit-learn`."
   ]
  },
  {
   "cell_type": "code",
   "execution_count": null,
   "metadata": {},
   "outputs": [],
   "source": [
    "import numpy as np\n",
    "import pandas as pd\n",
    "\n",
    "# TODO: Agregar las librerías que hagan falta\n",
    "from sklearn.model_selection import train_test_split"
   ]
  },
  {
   "cell_type": "markdown",
   "metadata": {},
   "source": [
    "## Carga de datos y división en entrenamiento y evaluación\n",
    "\n",
    "La celda siguiente se encarga de la carga de datos (haciendo uso de pandas). Estos serán los que se trabajarán en el resto del laboratorio."
   ]
  },
  {
   "cell_type": "code",
   "execution_count": null,
   "metadata": {},
   "outputs": [],
   "source": [
    "dataset = pd.read_csv(\"./data/loan_data.csv\", comment=\"#\")\n",
    "\n",
    "# División entre instancias y etiquetas\n",
    "X, y = dataset.iloc[:, 1:], dataset.TARGET\n",
    "\n",
    "# división entre entrenamiento y evaluación\n",
    "X_train, X_test, y_train, y_test = train_test_split(X, y, test_size=0.2, random_state=0)"
   ]
  },
  {
   "cell_type": "markdown",
   "metadata": {},
   "source": [
    "\n",
    "Documentación:\n",
    "\n",
    "- https://scikit-learn.org/stable/modules/generated/sklearn.model_selection.train_test_split.html"
   ]
  },
  {
   "cell_type": "markdown",
   "metadata": {},
   "source": [
    "## Ejercicio 1: Descripción de los Datos y la Tarea\n",
    "\n",
    "Responder las siguientes preguntas:\n",
    "\n",
    "1. ¿De qué se trata el conjunto de datos?\n",
    "2. ¿Cuál es la variable objetivo que hay que predecir? ¿Qué significado tiene?\n",
    "3. ¿Qué información (atributos) hay disponible para hacer la predicción?\n",
    "4. ¿Qué atributos imagina ud. que son los más determinantes para la predicción?\n",
    "\n",
    "**No hace falta escribir código para responder estas preguntas.**"
   ]
  },
  {
   "cell_type": "markdown",
   "metadata": {},
   "source": [
    "## Ejercicio 2: Predicción con Modelos Lineales\n",
    "\n",
    "En este ejercicio se entrenarán modelos lineales de clasificación para predecir la variable objetivo.\n",
    "\n",
    "Para ello, deberán utilizar la clase SGDClassifier de scikit-learn.\n",
    "\n",
    "Documentación:\n",
    "- https://scikit-learn.org/stable/modules/sgd.html\n",
    "- https://scikit-learn.org/stable/modules/generated/sklearn.linear_model.SGDClassifier.html\n"
   ]
  },
  {
   "cell_type": "markdown",
   "metadata": {},
   "source": [
    "### Ejercicio 2.1: SGDClassifier con hiperparámetros por defecto\n",
    "\n",
    "Entrenar y evaluar el clasificador SGDClassifier usando los valores por omisión de scikit-learn para todos los parámetros. Únicamente **fijar la semilla aleatoria** para hacer repetible el experimento.\n",
    "\n",
    "Evaluar sobre el conjunto de **entrenamiento** y sobre el conjunto de **evaluación**, reportando:\n",
    "- Accuracy\n",
    "- Precision\n",
    "- Recall\n",
    "- F1\n",
    "- matriz de confusión"
   ]
  },
  {
   "cell_type": "markdown",
   "metadata": {},
   "source": [
    "### Ejercicio 2.2: Ajuste de Hiperparámetros\n",
    "\n",
    "Seleccionar valores para los hiperparámetros principales del SGDClassifier. Como mínimo, probar diferentes funciones de loss, tasas de entrenamiento y tasas de regularización.\n",
    "\n",
    "Para ello, usar grid-search y 5-fold cross-validation sobre el conjunto de entrenamiento para explorar muchas combinaciones posibles de valores.\n",
    "\n",
    "Reportar accuracy promedio y varianza para todas las configuraciones.\n",
    "\n",
    "Para la mejor configuración encontrada, evaluar sobre el conjunto de **entrenamiento** y sobre el conjunto de **evaluación**, reportando:\n",
    "- Accuracy\n",
    "- Precision\n",
    "- Recall\n",
    "- F1\n",
    "- matriz de confusión\n",
    "\n",
    "Documentación:\n",
    "- https://scikit-learn.org/stable/modules/grid_search.html\n",
    "- https://scikit-learn.org/stable/modules/generated/sklearn.model_selection.GridSearchCV.html"
   ]
  },
  {
   "cell_type": "markdown",
   "metadata": {},
   "source": [
    "## Ejercicio 3: Árboles de Decisión\n",
    "\n",
    "En este ejercicio se entrenarán árboles de decisión para predecir la variable objetivo.\n",
    "\n",
    "Para ello, deberán utilizar la clase DecisionTreeClassifier de scikit-learn.\n",
    "\n",
    "Documentación:\n",
    "- https://scikit-learn.org/stable/modules/tree.html\n",
    "  - https://scikit-learn.org/stable/modules/tree.html#tips-on-practical-use\n",
    "- https://scikit-learn.org/stable/modules/generated/sklearn.tree.DecisionTreeClassifier.html\n",
    "- https://scikit-learn.org/stable/auto_examples/tree/plot_unveil_tree_structure.html"
   ]
  },
  {
   "cell_type": "markdown",
   "metadata": {},
   "source": [
    "### Ejercicio 3.1: DecisionTreeClassifier con hiperparámetros por defecto\n",
    "\n",
    "Entrenar y evaluar el clasificador DecisionTreeClassifier usando los valores por omisión de scikit-learn para todos los parámetros. Únicamente **fijar la semilla aleatoria** para hacer repetible el experimento.\n",
    "\n",
    "Evaluar sobre el conjunto de **entrenamiento** y sobre el conjunto de **evaluación**, reportando:\n",
    "- Accuracy\n",
    "- Precision\n",
    "- Recall\n",
    "- F1\n",
    "- matriz de confusión\n"
   ]
  },
  {
   "cell_type": "markdown",
   "metadata": {},
   "source": [
    "### Ejercicio 3.2: Ajuste de Hiperparámetros\n",
    "\n",
    "Seleccionar valores para los hiperparámetros principales del DecisionTreeClassifier. Como mínimo, probar diferentes criterios de partición (criterion), profundidad máxima del árbol (max_depth), y cantidad mínima de samples por hoja (min_samples_leaf).\n",
    "\n",
    "Para ello, usar grid-search y 5-fold cross-validation sobre el conjunto de entrenamiento para explorar muchas combinaciones posibles de valores.\n",
    "\n",
    "Reportar accuracy promedio y varianza para todas las configuraciones.\n",
    "\n",
    "Para la mejor configuración encontrada, evaluar sobre el conjunto de **entrenamiento** y sobre el conjunto de **evaluación**, reportando:\n",
    "- Accuracy\n",
    "- Precision\n",
    "- Recall\n",
    "- F1\n",
    "- matriz de confusión\n",
    "\n",
    "\n",
    "Documentación:\n",
    "- https://scikit-learn.org/stable/modules/grid_search.html\n",
    "- https://scikit-learn.org/stable/modules/generated/sklearn.model_selection.GridSearchCV.html"
   ]
  },
  {
   "cell_type": "markdown",
   "metadata": {},
   "source": [
    "--------------------------------------------------------------------------------------------------------------------"
   ]
  },
  {
   "cell_type": "markdown",
   "metadata": {},
   "source": [
    "## Inicialización de entorno de trabajo"
   ]
  },
  {
   "cell_type": "code",
   "execution_count": 29,
   "metadata": {},
   "outputs": [],
   "source": [
    "import numpy as np\n",
    "import pandas as pd\n",
    "\n",
    "from sklearn.model_selection import train_test_split\n",
    "from sklearn.preprocessing import StandardScaler\n",
    "from sklearn.linear_model import SGDClassifier\n",
    "from sklearn.metrics import confusion_matrix ,classification_report, balanced_accuracy_score ## accuracy_score, precision_score, recall_score, f1_score, \n"
   ]
  },
  {
   "cell_type": "markdown",
   "metadata": {},
   "source": [
    "## Carga de datos y división en entrenamiento y evaluación"
   ]
  },
  {
   "cell_type": "code",
   "execution_count": 2,
   "metadata": {},
   "outputs": [],
   "source": [
    "dataset = pd.read_csv(\"./data/loan_data.csv\", comment=\"#\")\n",
    "\n",
    "# División entre instancias y etiquetas\n",
    "X, y = dataset.iloc[:, 1:], dataset.TARGET\n",
    "\n",
    "# división entre entrenamiento y evaluación\n",
    "X_train, X_test, y_train, y_test = train_test_split(X, y, test_size=0.2, random_state=0)"
   ]
  },
  {
   "cell_type": "code",
   "execution_count": null,
   "metadata": {},
   "outputs": [
    {
     "data": {
      "text/html": [
       "\n",
       "        <iframe\n",
       "            width=\"100%\"\n",
       "            height=\"475\"\n",
       "            src=\"http://ds:40000/dtale/iframe/1\"\n",
       "            frameborder=\"0\"\n",
       "            allowfullscreen\n",
       "            \n",
       "        ></iframe>\n",
       "        "
      ],
      "text/plain": [
       "<IPython.lib.display.IFrame at 0x7f7907310d00>"
      ]
     },
     "metadata": {},
     "output_type": "display_data"
    },
    {
     "data": {
      "text/plain": []
     },
     "execution_count": 4,
     "metadata": {},
     "output_type": "execute_result"
    },
    {
     "name": "stderr",
     "output_type": "stream",
     "text": [
      "/home/user/.local/lib/python3.8/site-packages/seaborn/matrix.py:309: UserWarning:\n",
      "\n",
      "Attempting to set identical low and high xlims makes transformation singular; automatically expanding.\n",
      "\n",
      "/home/user/.local/lib/python3.8/site-packages/seaborn/matrix.py:309: UserWarning:\n",
      "\n",
      "Attempting to set identical low and high ylims makes transformation singular; automatically expanding.\n",
      "\n",
      "2023-08-24 20:02:24,902 - WARNING  - findfont: Font family 'Heiti TC' not found.\n",
      "2023-08-24 20:02:24,942 - WARNING  - findfont: Font family 'Heiti TC' not found.\n",
      "2023-08-24 20:02:24,947 - WARNING  - findfont: Font family 'Heiti TC' not found.\n",
      "2023-08-24 20:02:24,952 - WARNING  - findfont: Font family 'Heiti TC' not found.\n",
      "2023-08-24 20:02:24,957 - WARNING  - findfont: Font family 'Heiti TC' not found.\n",
      "2023-08-24 20:02:24,959 - WARNING  - findfont: Font family 'Heiti TC' not found.\n",
      "2023-08-24 20:02:24,963 - WARNING  - findfont: Font family 'Heiti TC' not found.\n",
      "2023-08-24 20:02:24,971 - WARNING  - findfont: Font family 'Heiti TC' not found.\n",
      "2023-08-24 20:02:24,973 - WARNING  - findfont: Font family 'Heiti TC' not found.\n",
      "2023-08-24 20:02:24,982 - WARNING  - findfont: Font family 'Heiti TC' not found.\n",
      "2023-08-24 20:02:24,991 - WARNING  - findfont: Font family 'Heiti TC' not found.\n",
      "2023-08-24 20:02:25,004 - WARNING  - findfont: Font family 'Heiti TC' not found.\n",
      "2023-08-24 20:02:25,008 - WARNING  - findfont: Font family 'Heiti TC' not found.\n",
      "2023-08-24 20:02:25,035 - WARNING  - findfont: Font family 'Heiti TC' not found.\n",
      "2023-08-24 20:02:25,047 - WARNING  - findfont: Font family 'Heiti TC' not found.\n",
      "2023-08-24 20:02:25,055 - WARNING  - findfont: Font family 'Heiti TC' not found.\n",
      "2023-08-24 20:02:25,065 - WARNING  - findfont: Font family 'Heiti TC' not found.\n",
      "2023-08-24 20:02:25,069 - WARNING  - findfont: Font family 'Heiti TC' not found.\n",
      "2023-08-24 20:02:25,085 - WARNING  - findfont: Font family 'Heiti TC' not found.\n",
      "2023-08-24 20:02:25,157 - WARNING  - findfont: Font family 'Heiti TC' not found.\n",
      "2023-08-24 20:02:25,163 - WARNING  - findfont: Font family 'Heiti TC' not found.\n",
      "2023-08-24 20:02:25,166 - WARNING  - findfont: Font family 'Heiti TC' not found.\n",
      "2023-08-24 20:02:25,168 - WARNING  - findfont: Font family 'Heiti TC' not found.\n",
      "2023-08-24 20:02:25,173 - WARNING  - findfont: Font family 'Heiti TC' not found.\n",
      "2023-08-24 20:02:25,182 - WARNING  - findfont: Font family 'Heiti TC' not found.\n",
      "2023-08-24 20:02:25,186 - WARNING  - findfont: Font family 'Heiti TC' not found.\n",
      "2023-08-24 20:02:25,188 - WARNING  - findfont: Font family 'Heiti TC' not found.\n",
      "2023-08-24 20:02:25,194 - WARNING  - findfont: Font family 'Heiti TC' not found.\n",
      "2023-08-24 20:02:25,197 - WARNING  - findfont: Font family 'Heiti TC' not found.\n",
      "2023-08-24 20:02:25,200 - WARNING  - findfont: Font family 'Heiti TC' not found.\n",
      "2023-08-24 20:02:25,209 - WARNING  - findfont: Font family 'Heiti TC' not found.\n",
      "2023-08-24 20:02:25,216 - WARNING  - findfont: Font family 'Heiti TC' not found.\n",
      "2023-08-24 20:02:25,228 - WARNING  - findfont: Font family 'Heiti TC' not found.\n",
      "2023-08-24 20:02:25,232 - WARNING  - findfont: Font family 'Heiti TC' not found.\n",
      "2023-08-24 20:02:25,239 - WARNING  - findfont: Font family 'Heiti TC' not found.\n",
      "2023-08-24 20:02:25,245 - WARNING  - findfont: Font family 'Heiti TC' not found.\n",
      "2023-08-24 20:02:25,249 - WARNING  - findfont: Font family 'Heiti TC' not found.\n",
      "2023-08-24 20:02:25,252 - WARNING  - findfont: Font family 'Heiti TC' not found.\n",
      "2023-08-24 20:02:55,261 - WARNING  - findfont: Font family 'Heiti TC' not found.\n",
      "2023-08-24 20:02:55,265 - WARNING  - findfont: Font family 'Heiti TC' not found.\n",
      "2023-08-24 20:02:55,273 - WARNING  - findfont: Font family 'Heiti TC' not found.\n",
      "2023-08-24 20:02:55,276 - WARNING  - findfont: Font family 'Heiti TC' not found.\n",
      "2023-08-24 20:02:55,284 - WARNING  - findfont: Font family 'Heiti TC' not found.\n",
      "2023-08-24 20:02:55,291 - WARNING  - findfont: Font family 'Heiti TC' not found.\n",
      "2023-08-24 20:02:55,293 - WARNING  - findfont: Font family 'Heiti TC' not found.\n",
      "2023-08-24 20:02:55,295 - WARNING  - findfont: Font family 'Heiti TC' not found.\n",
      "2023-08-24 20:02:55,296 - WARNING  - findfont: Font family 'Heiti TC' not found.\n",
      "2023-08-24 20:02:55,298 - WARNING  - findfont: Font family 'Heiti TC' not found.\n",
      "2023-08-24 20:02:55,306 - WARNING  - findfont: Font family 'Heiti TC' not found.\n",
      "2023-08-24 20:02:55,309 - WARNING  - findfont: Font family 'Heiti TC' not found.\n",
      "2023-08-24 20:02:55,311 - WARNING  - findfont: Font family 'Heiti TC' not found.\n",
      "2023-08-24 20:02:55,313 - WARNING  - findfont: Font family 'Heiti TC' not found.\n",
      "2023-08-24 20:02:55,318 - WARNING  - findfont: Font family 'Heiti TC' not found.\n",
      "2023-08-24 20:02:55,322 - WARNING  - findfont: Font family 'Heiti TC' not found.\n",
      "2023-08-24 20:02:55,473 - WARNING  - findfont: Font family 'Heiti TC' not found.\n",
      "2023-08-24 20:02:55,477 - WARNING  - findfont: Font family 'Heiti TC' not found.\n",
      "2023-08-24 20:02:55,483 - WARNING  - findfont: Font family 'Heiti TC' not found.\n",
      "2023-08-24 20:02:55,487 - WARNING  - findfont: Font family 'Heiti TC' not found.\n",
      "2023-08-24 20:02:55,489 - WARNING  - findfont: Font family 'Heiti TC' not found.\n",
      "2023-08-24 20:02:55,491 - WARNING  - findfont: Font family 'Heiti TC' not found.\n",
      "2023-08-24 20:02:55,498 - WARNING  - findfont: Font family 'Heiti TC' not found.\n",
      "2023-08-24 20:02:55,506 - WARNING  - findfont: Font family 'Heiti TC' not found.\n",
      "2023-08-24 20:02:55,509 - WARNING  - findfont: Font family 'Heiti TC' not found.\n",
      "2023-08-24 20:02:55,516 - WARNING  - findfont: Font family 'Heiti TC' not found.\n",
      "2023-08-24 20:02:55,519 - WARNING  - findfont: Font family 'Heiti TC' not found.\n",
      "2023-08-24 20:02:55,535 - WARNING  - findfont: Font family 'Heiti TC' not found.\n",
      "2023-08-24 20:02:55,542 - WARNING  - findfont: Font family 'Heiti TC' not found.\n",
      "2023-08-24 20:02:55,546 - WARNING  - findfont: Font family 'Heiti TC' not found.\n",
      "2023-08-24 20:02:55,548 - WARNING  - findfont: Font family 'Heiti TC' not found.\n",
      "2023-08-24 20:02:55,550 - WARNING  - findfont: Font family 'Heiti TC' not found.\n",
      "/home/user/.local/lib/python3.8/site-packages/scipy/cluster/hierarchy.py:2848: UserWarning:\n",
      "\n",
      "Attempting to set identical low and high ylims makes transformation singular; automatically expanding.\n",
      "\n",
      "2023-08-24 20:03:02,871 - WARNING  - findfont: Font family 'Heiti TC' not found.\n",
      "2023-08-24 20:03:02,874 - WARNING  - findfont: Font family 'Heiti TC' not found.\n",
      "2023-08-24 20:03:02,878 - WARNING  - findfont: Font family 'Heiti TC' not found.\n",
      "2023-08-24 20:03:02,887 - WARNING  - findfont: Font family 'Heiti TC' not found.\n",
      "2023-08-24 20:03:02,889 - WARNING  - findfont: Font family 'Heiti TC' not found.\n",
      "2023-08-24 20:03:02,893 - WARNING  - findfont: Font family 'Heiti TC' not found.\n",
      "2023-08-24 20:03:02,896 - WARNING  - findfont: Font family 'Heiti TC' not found.\n",
      "2023-08-24 20:03:02,902 - WARNING  - findfont: Font family 'Heiti TC' not found.\n",
      "2023-08-24 20:03:02,905 - WARNING  - findfont: Font family 'Heiti TC' not found.\n",
      "2023-08-24 20:03:02,908 - WARNING  - findfont: Font family 'Heiti TC' not found.\n",
      "2023-08-24 20:03:02,917 - WARNING  - findfont: Font family 'Heiti TC' not found.\n",
      "2023-08-24 20:03:02,921 - WARNING  - findfont: Font family 'Heiti TC' not found.\n",
      "2023-08-24 20:03:02,949 - WARNING  - findfont: Font family 'Heiti TC' not found.\n",
      "2023-08-24 20:03:02,953 - WARNING  - findfont: Font family 'Heiti TC' not found.\n",
      "2023-08-24 20:03:02,956 - WARNING  - findfont: Font family 'Heiti TC' not found.\n",
      "2023-08-24 20:03:02,961 - WARNING  - findfont: Font family 'Heiti TC' not found.\n",
      "2023-08-24 20:03:02,972 - WARNING  - findfont: Font family 'Heiti TC' not found.\n",
      "2023-08-24 20:03:02,977 - WARNING  - findfont: Font family 'Heiti TC' not found.\n",
      "2023-08-24 20:03:02,984 - WARNING  - findfont: Font family 'Heiti TC' not found.\n",
      "2023-08-24 20:03:02,988 - WARNING  - findfont: Font family 'Heiti TC' not found.\n",
      "2023-08-24 20:03:02,989 - WARNING  - findfont: Font family 'Heiti TC' not found.\n",
      "2023-08-24 20:03:02,991 - WARNING  - findfont: Font family 'Heiti TC' not found.\n",
      "2023-08-24 20:03:02,993 - WARNING  - findfont: Font family 'Heiti TC' not found.\n",
      "2023-08-24 20:03:03,038 - WARNING  - findfont: Font family 'Heiti TC' not found.\n",
      "2023-08-24 20:03:03,044 - WARNING  - findfont: Font family 'Heiti TC' not found.\n",
      "2023-08-24 20:03:03,054 - WARNING  - findfont: Font family 'Heiti TC' not found.\n",
      "2023-08-24 20:03:03,063 - WARNING  - findfont: Font family 'Heiti TC' not found.\n",
      "2023-08-24 20:03:03,066 - WARNING  - findfont: Font family 'Heiti TC' not found.\n",
      "2023-08-24 20:03:03,075 - WARNING  - findfont: Font family 'Heiti TC' not found.\n",
      "2023-08-24 20:03:03,089 - WARNING  - findfont: Font family 'Heiti TC' not found.\n",
      "2023-08-24 20:03:03,101 - WARNING  - findfont: Font family 'Heiti TC' not found.\n",
      "2023-08-24 20:03:03,104 - WARNING  - findfont: Font family 'Heiti TC' not found.\n",
      "2023-08-24 20:03:03,108 - WARNING  - findfont: Font family 'Heiti TC' not found.\n",
      "2023-08-24 20:03:03,114 - WARNING  - findfont: Font family 'Heiti TC' not found.\n",
      "2023-08-24 20:03:05,812 - WARNING  - findfont: Font family 'Heiti TC' not found.\n",
      "2023-08-24 20:03:05,821 - WARNING  - findfont: Font family 'Heiti TC' not found.\n",
      "2023-08-24 20:03:05,824 - WARNING  - findfont: Font family 'Heiti TC' not found.\n",
      "2023-08-24 20:03:05,830 - WARNING  - findfont: Font family 'Heiti TC' not found.\n",
      "2023-08-24 20:03:05,837 - WARNING  - findfont: Font family 'Heiti TC' not found.\n",
      "2023-08-24 20:03:05,839 - WARNING  - findfont: Font family 'Heiti TC' not found.\n",
      "2023-08-24 20:03:05,841 - WARNING  - findfont: Font family 'Heiti TC' not found.\n",
      "2023-08-24 20:03:05,844 - WARNING  - findfont: Font family 'Heiti TC' not found.\n",
      "2023-08-24 20:03:05,855 - WARNING  - findfont: Font family 'Heiti TC' not found.\n",
      "2023-08-24 20:03:05,856 - WARNING  - findfont: Font family 'Heiti TC' not found.\n",
      "2023-08-24 20:03:05,858 - WARNING  - findfont: Font family 'Heiti TC' not found.\n",
      "2023-08-24 20:03:05,859 - WARNING  - findfont: Font family 'Heiti TC' not found.\n",
      "2023-08-24 20:03:05,876 - WARNING  - findfont: Font family 'Heiti TC' not found.\n",
      "2023-08-24 20:03:05,960 - WARNING  - findfont: Font family 'Heiti TC' not found.\n",
      "2023-08-24 20:03:05,963 - WARNING  - findfont: Font family 'Heiti TC' not found.\n",
      "2023-08-24 20:03:05,966 - WARNING  - findfont: Font family 'Heiti TC' not found.\n",
      "2023-08-24 20:03:05,969 - WARNING  - findfont: Font family 'Heiti TC' not found.\n",
      "2023-08-24 20:03:05,971 - WARNING  - findfont: Font family 'Heiti TC' not found.\n",
      "2023-08-24 20:03:05,973 - WARNING  - findfont: Font family 'Heiti TC' not found.\n",
      "2023-08-24 20:03:05,975 - WARNING  - findfont: Font family 'Heiti TC' not found.\n",
      "2023-08-24 20:03:05,978 - WARNING  - findfont: Font family 'Heiti TC' not found.\n",
      "2023-08-24 20:03:05,988 - WARNING  - findfont: Font family 'Heiti TC' not found.\n",
      "2023-08-24 20:03:05,995 - WARNING  - findfont: Font family 'Heiti TC' not found.\n",
      "2023-08-24 20:03:05,999 - WARNING  - findfont: Font family 'Heiti TC' not found.\n",
      "2023-08-24 20:03:06,013 - WARNING  - findfont: Font family 'Heiti TC' not found.\n",
      "2023-08-24 20:03:06,019 - WARNING  - findfont: Font family 'Heiti TC' not found.\n",
      "2023-08-24 20:03:06,021 - WARNING  - findfont: Font family 'Heiti TC' not found.\n",
      "2023-08-24 20:03:06,028 - WARNING  - findfont: Font family 'Heiti TC' not found.\n",
      "2023-08-24 20:03:06,031 - WARNING  - findfont: Font family 'Heiti TC' not found.\n",
      "2023-08-24 20:03:06,033 - WARNING  - findfont: Font family 'Heiti TC' not found.\n",
      "2023-08-24 20:03:06,035 - WARNING  - findfont: Font family 'Heiti TC' not found.\n",
      "2023-08-24 20:03:06,038 - WARNING  - findfont: Font family 'Heiti TC' not found.\n",
      "2023-08-24 20:03:06,044 - WARNING  - findfont: Font family 'Heiti TC' not found.\n",
      "2023-08-24 20:03:06,046 - WARNING  - findfont: Font family 'Heiti TC' not found.\n",
      "2023-08-24 20:03:06,049 - WARNING  - findfont: Font family 'Heiti TC' not found.\n",
      "2023-08-24 20:03:06,053 - WARNING  - findfont: Font family 'Heiti TC' not found.\n",
      "2023-08-24 20:03:06,158 - WARNING  - findfont: Font family 'Heiti TC' not found.\n",
      "2023-08-24 20:03:06,159 - WARNING  - findfont: Font family 'Heiti TC' not found.\n",
      "2023-08-24 20:03:06,160 - WARNING  - findfont: Font family 'Heiti TC' not found.\n",
      "2023-08-24 20:03:06,165 - WARNING  - findfont: Font family 'Heiti TC' not found.\n",
      "2023-08-24 20:03:06,173 - WARNING  - findfont: Font family 'Heiti TC' not found.\n",
      "2023-08-24 20:03:06,179 - WARNING  - findfont: Font family 'Heiti TC' not found.\n",
      "2023-08-24 20:03:06,182 - WARNING  - findfont: Font family 'Heiti TC' not found.\n",
      "2023-08-24 20:03:06,189 - WARNING  - findfont: Font family 'Heiti TC' not found.\n",
      "2023-08-24 20:03:06,191 - WARNING  - findfont: Font family 'Heiti TC' not found.\n",
      "2023-08-24 20:03:06,195 - WARNING  - findfont: Font family 'Heiti TC' not found.\n",
      "2023-08-24 20:03:06,198 - WARNING  - findfont: Font family 'Heiti TC' not found.\n",
      "2023-08-24 20:03:06,301 - WARNING  - findfont: Font family 'Heiti TC' not found.\n",
      "2023-08-24 20:03:06,303 - WARNING  - findfont: Font family 'Heiti TC' not found.\n",
      "2023-08-24 20:03:06,306 - WARNING  - findfont: Font family 'Heiti TC' not found.\n",
      "2023-08-24 20:03:06,308 - WARNING  - findfont: Font family 'Heiti TC' not found.\n",
      "2023-08-24 20:03:06,310 - WARNING  - findfont: Font family 'Heiti TC' not found.\n",
      "2023-08-24 20:03:06,319 - WARNING  - findfont: Font family 'Heiti TC' not found.\n",
      "2023-08-24 20:03:06,321 - WARNING  - findfont: Font family 'Heiti TC' not found.\n",
      "2023-08-24 20:03:06,323 - WARNING  - findfont: Font family 'Heiti TC' not found.\n",
      "2023-08-24 20:03:06,325 - WARNING  - findfont: Font family 'Heiti TC' not found.\n",
      "2023-08-24 20:03:06,327 - WARNING  - findfont: Font family 'Heiti TC' not found.\n",
      "2023-08-24 20:03:06,334 - WARNING  - findfont: Font family 'Heiti TC' not found.\n",
      "/home/user/.local/lib/python3.8/site-packages/seaborn/matrix.py:309: UserWarning:\n",
      "\n",
      "Attempting to set identical low and high xlims makes transformation singular; automatically expanding.\n",
      "\n",
      "/home/user/.local/lib/python3.8/site-packages/seaborn/matrix.py:309: UserWarning:\n",
      "\n",
      "Attempting to set identical low and high ylims makes transformation singular; automatically expanding.\n",
      "\n",
      "2023-08-24 20:03:14,628 - WARNING  - findfont: Font family 'Heiti TC' not found.\n",
      "2023-08-24 20:03:14,630 - WARNING  - findfont: Font family 'Heiti TC' not found.\n",
      "2023-08-24 20:03:14,634 - WARNING  - findfont: Font family 'Heiti TC' not found.\n",
      "2023-08-24 20:03:14,644 - WARNING  - findfont: Font family 'Heiti TC' not found.\n",
      "2023-08-24 20:03:14,647 - WARNING  - findfont: Font family 'Heiti TC' not found.\n",
      "2023-08-24 20:03:14,661 - WARNING  - findfont: Font family 'Heiti TC' not found.\n",
      "2023-08-24 20:03:14,667 - WARNING  - findfont: Font family 'Heiti TC' not found.\n",
      "2023-08-24 20:03:14,673 - WARNING  - findfont: Font family 'Heiti TC' not found.\n",
      "2023-08-24 20:03:14,681 - WARNING  - findfont: Font family 'Heiti TC' not found.\n",
      "2023-08-24 20:03:14,685 - WARNING  - findfont: Font family 'Heiti TC' not found.\n",
      "2023-08-24 20:03:14,692 - WARNING  - findfont: Font family 'Heiti TC' not found.\n",
      "2023-08-24 20:03:14,697 - WARNING  - findfont: Font family 'Heiti TC' not found.\n",
      "2023-08-24 20:03:14,701 - WARNING  - findfont: Font family 'Heiti TC' not found.\n",
      "2023-08-24 20:03:14,708 - WARNING  - findfont: Font family 'Heiti TC' not found.\n",
      "2023-08-24 20:03:14,713 - WARNING  - findfont: Font family 'Heiti TC' not found.\n",
      "2023-08-24 20:03:14,716 - WARNING  - findfont: Font family 'Heiti TC' not found.\n",
      "2023-08-24 20:03:14,721 - WARNING  - findfont: Font family 'Heiti TC' not found.\n",
      "2023-08-24 20:03:14,725 - WARNING  - findfont: Font family 'Heiti TC' not found.\n",
      "2023-08-24 20:03:14,728 - WARNING  - findfont: Font family 'Heiti TC' not found.\n",
      "2023-08-24 20:03:14,765 - WARNING  - findfont: Font family 'Heiti TC' not found.\n",
      "2023-08-24 20:03:14,770 - WARNING  - findfont: Font family 'Heiti TC' not found.\n",
      "2023-08-24 20:03:14,775 - WARNING  - findfont: Font family 'Heiti TC' not found.\n",
      "2023-08-24 20:03:14,776 - WARNING  - findfont: Font family 'Heiti TC' not found.\n",
      "2023-08-24 20:03:14,778 - WARNING  - findfont: Font family 'Heiti TC' not found.\n",
      "2023-08-24 20:03:14,782 - WARNING  - findfont: Font family 'Heiti TC' not found.\n",
      "2023-08-24 20:03:14,790 - WARNING  - findfont: Font family 'Heiti TC' not found.\n",
      "2023-08-24 20:03:14,794 - WARNING  - findfont: Font family 'Heiti TC' not found.\n",
      "2023-08-24 20:03:14,811 - WARNING  - findfont: Font family 'Heiti TC' not found.\n",
      "2023-08-24 20:03:14,815 - WARNING  - findfont: Font family 'Heiti TC' not found.\n",
      "2023-08-24 20:03:14,820 - WARNING  - findfont: Font family 'Heiti TC' not found.\n",
      "2023-08-24 20:03:14,825 - WARNING  - findfont: Font family 'Heiti TC' not found.\n",
      "2023-08-24 20:03:14,829 - WARNING  - findfont: Font family 'Heiti TC' not found.\n",
      "2023-08-24 20:03:14,835 - WARNING  - findfont: Font family 'Heiti TC' not found.\n",
      "2023-08-24 20:03:14,843 - WARNING  - findfont: Font family 'Heiti TC' not found.\n",
      "2023-08-24 20:03:14,846 - WARNING  - findfont: Font family 'Heiti TC' not found.\n",
      "2023-08-24 20:03:14,853 - WARNING  - findfont: Font family 'Heiti TC' not found.\n",
      "2023-08-24 20:03:14,857 - WARNING  - findfont: Font family 'Heiti TC' not found.\n",
      "2023-08-24 20:03:14,860 - WARNING  - findfont: Font family 'Heiti TC' not found.\n",
      "2023-08-24 21:06:37,418 - INFO     - Executing shutdown due to inactivity...\n",
      "2023-08-24 21:06:37,431 - INFO     - Executing shutdown...\n",
      "2023-08-24 21:06:37,433 - ERROR    - Exception on /shutdown [GET]\n",
      "Traceback (most recent call last):\n",
      "  File \"/home/user/.local/lib/python3.8/site-packages/flask/app.py\", line 2529, in wsgi_app\n",
      "    response = self.full_dispatch_request()\n",
      "  File \"/home/user/.local/lib/python3.8/site-packages/flask/app.py\", line 1825, in full_dispatch_request\n",
      "    rv = self.handle_user_exception(e)\n",
      "  File \"/home/user/.local/lib/python3.8/site-packages/flask/app.py\", line 1823, in full_dispatch_request\n",
      "    rv = self.dispatch_request()\n",
      "  File \"/home/user/.local/lib/python3.8/site-packages/flask/app.py\", line 1799, in dispatch_request\n",
      "    return self.ensure_sync(self.view_functions[rule.endpoint])(**view_args)\n",
      "  File \"/home/user/.local/lib/python3.8/site-packages/dtale/app.py\", line 440, in shutdown\n",
      "    shutdown_server()\n",
      "  File \"/home/user/.local/lib/python3.8/site-packages/dtale/app.py\", line 426, in shutdown_server\n",
      "    raise RuntimeError(\"Not running with the Werkzeug Server\")\n",
      "RuntimeError: Not running with the Werkzeug Server\n"
     ]
    }
   ],
   "source": [
    "import dtale\n",
    "\n",
    "dtale.show(dataset)\n"
   ]
  },
  {
   "cell_type": "markdown",
   "metadata": {},
   "source": [
    "## Ejercicio 1: Descripción de los Datos y la Tarea\n",
    "\n",
    "Responder las siguientes preguntas:\n",
    "\n",
    "1. ¿De qué se trata el conjunto de datos?\n",
    "2. ¿Cuál es la variable objetivo que hay que predecir? ¿Qué significado tiene?\n",
    "3. ¿Qué información (atributos) hay disponible para hacer la predicción?\n",
    "4. ¿Qué atributos imagina ud. que son los más determinantes para la predicción?\n",
    "\n",
    "**No hace falta escribir código para responder estas preguntas.**"
   ]
  },
  {
   "cell_type": "markdown",
   "metadata": {},
   "source": [
    "### Resolución"
   ]
  },
  {
   "cell_type": "markdown",
   "metadata": {},
   "source": [
    "#### 1) Descripción del dataset\n",
    "\n",
    "El conjunto de datos se trata de la informacion de los prestamos hipotecarios otorgados por un banco."
   ]
  },
  {
   "cell_type": "markdown",
   "metadata": {},
   "source": [
    "#### 2) Variable objetivo\n",
    "\n",
    "El departamento de créditos de un banco quiere automatizar el proceso de aprobación de los créditos hipotecarios. La variable objetivo indica si el crédito estará en mora o si será pagado en término.\n",
    "\n",
    "La variable target es un atributo binario con los siguientes significados:\n",
    "- 1: no ha pagado el préstamo \n",
    "- 0: el préstamo ha sido pagado."
   ]
  },
  {
   "cell_type": "markdown",
   "metadata": {},
   "source": [
    "#### 3) Variables independientes\n",
    "\n",
    "Estas son las variables independientes:\n",
    "\n",
    "- LOAN: monto total del préstamo\n",
    "- MORTDUE: monto adeudado\n",
    "- VALUE: valor del inmueble\n",
    "- YOJ: antigüedad en el trabajo\n",
    "- DEROG: cantidad de informes negativos\n",
    "- DELINQ: cantidad de créditos morosos\n",
    "- CLAGE: antigüedad de la línea comercial más antigua en meses\n",
    "- NINQ: cantidad de líneas de crédito recientes\n",
    "- CLINQ: cantidad de líneas de crédito\n",
    "- DEBTINC: tasa entre deuda e ingresos mensuales\n"
   ]
  },
  {
   "cell_type": "markdown",
   "metadata": {},
   "source": [
    "#### 4) Atributos importantes para la predicción \n",
    "\n",
    "Los atributos mas importantes serían:\n",
    " - el monto del credito (LOAN); se entiende que un monto alto tiene más riesgo, \n",
    " - el historial crediticio (DEROG,DELINQ); esto permite entender si el cliente es buen o mal pagador, \n",
    " - la relación entre sus ingresos y deudas (DEBTINC); este dato es útil para saber si puede o afrontar el crédito."
   ]
  },
  {
   "cell_type": "markdown",
   "metadata": {},
   "source": [
    "## Ejercicio 2: Predicción con Modelos Lineales\n",
    "\n",
    "En este ejercicio se entrenarán modelos lineales de clasificación para predecir la variable objetivo.\n",
    "\n",
    "Para ello, deberán utilizar la clase SGDClassifier de scikit-learn.\n",
    "\n",
    "Documentación:\n",
    "- https://scikit-learn.org/stable/modules/sgd.html\n",
    "- https://scikit-learn.org/stable/modules/generated/sklearn.linear_model.SGDClassifier.html"
   ]
  },
  {
   "cell_type": "markdown",
   "metadata": {},
   "source": [
    "### Resolución"
   ]
  },
  {
   "cell_type": "markdown",
   "metadata": {},
   "source": [
    "### Ejercicio 2.1: SGDClassifier con hiperparámetros por defecto\n",
    "\n",
    "Entrenar y evaluar el clasificador SGDClassifier usando los valores por omisión de scikit-learn para todos los parámetros. Únicamente **fijar la semilla aleatoria** para hacer repetible el experimento.\n",
    "\n",
    "Evaluar sobre el conjunto de **entrenamiento** y sobre el conjunto de **evaluación**, reportando:\n",
    "- Accuracy\n",
    "- Precision\n",
    "- Recall\n",
    "- F1\n",
    "- matriz de confusión"
   ]
  },
  {
   "cell_type": "markdown",
   "metadata": {},
   "source": [
    "#### 2.1.1) Clasificación base"
   ]
  },
  {
   "cell_type": "markdown",
   "metadata": {},
   "source": [
    "El dataset se estructura para poder utilizarlo en el modelo de clasificación."
   ]
  },
  {
   "cell_type": "code",
   "execution_count": 18,
   "metadata": {},
   "outputs": [
    {
     "name": "stdout",
     "output_type": "stream",
     "text": [
      "Vars. independientes X: \n",
      "     LOAN  MORTDUE     VALUE   YOJ  DEROG  DELINQ       CLAGE  NINQ  CLNO  \\\n",
      "0   4700  88026.0  115506.0   6.0    0.0     0.0  182.248332   0.0  27.0   \n",
      "1  19300  39926.0  101208.0   4.0    0.0     0.0  140.051638   0.0  14.0   \n",
      "2   5700  71556.0   79538.0   2.0    0.0     0.0   92.643085   0.0  15.0   \n",
      "3  13000  44875.0   57713.0   0.0    1.0     0.0  184.990324   1.0  12.0   \n",
      "4  19300  72752.0  106084.0  11.0    0.0     0.0  193.707100   1.0  13.0   \n",
      "\n",
      "     DEBTINC  \n",
      "0  29.209023  \n",
      "1  31.545694  \n",
      "2  41.210012  \n",
      "3  28.602076  \n",
      "4  30.686106  \n",
      "\n",
      "\n",
      "Etiquetas y: \n",
      " 0    0\n",
      "1    0\n",
      "2    0\n",
      "3    0\n",
      "4    0\n",
      "Name: TARGET, dtype: int64\n"
     ]
    }
   ],
   "source": [
    "# previamente se extrajeron del dataset las variables independientes X y las etiquetas y\n",
    "print(\"Vars. independientes X: \\n\", X.head(5)) \n",
    "print(\"\\n\")\n",
    "print(\"Etiquetas y: \\n\", y.head(5))\n"
   ]
  },
  {
   "cell_type": "code",
   "execution_count": 17,
   "metadata": {},
   "outputs": [
    {
     "name": "stdout",
     "output_type": "stream",
     "text": [
      "X_train:  (1483, 10)\n",
      "X_test:  (371, 10)\n",
      "y_train:  (1483,)\n",
      "y_test:  (371,)\n"
     ]
    }
   ],
   "source": [
    "# X e y también fueron separados en subconjuntos de train y test\n",
    "print(\"X_train: \", X_train.shape) \n",
    "print(\"X_test: \", X_test.shape) \n",
    "print(\"y_train: \", y_train.shape) \n",
    "print(\"y_test: \", y_test.shape) \n"
   ]
  },
  {
   "cell_type": "markdown",
   "metadata": {},
   "source": [
    "\n",
    "Solo se incluye el subconjunto de variables independientes consideradas significativas para el modelo."
   ]
  },
  {
   "cell_type": "code",
   "execution_count": 19,
   "metadata": {},
   "outputs": [
    {
     "name": "stdout",
     "output_type": "stream",
     "text": [
      "X_train_sel:  (1483, 4)\n",
      "X_test_sel:  (371, 4)\n"
     ]
    }
   ],
   "source": [
    "selected_features = ['LOAN','DEROG', 'DELINQ', 'DEBTINC']\n",
    "\n",
    "X_train_sel = X_train[selected_features]\n",
    "X_test_sel = X_test[selected_features]\n",
    "\n",
    "print(\"X_train_sel: \", X_train_sel.shape) \n",
    "print(\"X_test_sel: \", X_test_sel.shape) "
   ]
  },
  {
   "cell_type": "markdown",
   "metadata": {},
   "source": [
    "Se utilizará el clasificador SGDClassifier con los parámetros por default. De estos parámetros por default, los más importantes son:\n",
    " - *loss*: es la función de pérdida a utilizar; por defecto es *'hinge'* correspondiente a Support Vector Machine\n",
    " - *penalty*: el término de regularización a aplicar; por defecto es *'l2'*\n",
    " - *alpha*: es una constante que multiplica al término de regularización; por defecto es *0,0001*\n",
    "\n",
    " Además como el algoritmo SGD es sensible al escalado de variables, se aplicará estandarización a las mismas."
   ]
  },
  {
   "cell_type": "code",
   "execution_count": 23,
   "metadata": {},
   "outputs": [],
   "source": [
    "# se inicializan transformer y estimator con parámetros default\n",
    "scaler = StandardScaler()\n",
    "classifier = SGDClassifier(random_state=0)\n",
    "\n",
    "# se aplica estandarización a los features seleccionados\n",
    "X_train_scaled = scaler.fit_transform(X_train_sel)\n",
    "X_test_scaled = scaler.fit_transform(X_test_sel)\n",
    "\n",
    "# se ajusta modelo con conjunto de datos escalado\n",
    "classifier.fit(X_train_scaled, y_train)\n",
    "\n",
    "# con el modelo entrenado se calculan las etiquetas para las observaciones del conjunto de prueba\n",
    "y_pred = classifier.predict(X_test_scaled)"
   ]
  },
  {
   "cell_type": "markdown",
   "metadata": {},
   "source": [
    "#### 2.1.2) Evaluación"
   ]
  },
  {
   "cell_type": "markdown",
   "metadata": {},
   "source": [
    "A partir de la *matriz de confusión* que produce la comparación entre los valores reales provenientes del dataset original y los valores predichos por el modelo entrenado es posible evaluar la performance del modelo en base a varias métricas.\n",
    "\n",
    "| Matriz de Confusión| Positivo | Negativo |\n",
    "|------|-------|-------|\n",
    "| Positivo | a | b |\n",
    "| Negativo | c | d |\n",
    "\n",
    "- Las columnas de las matriz representan los valores reales observados en el dataset\n",
    "- Las filas de la matriz representan los valores predichos por el modelo\n",
    "- El valor *a* representa los positivos verdaderos (el modelo predijo positivo, y eso es correcto)\n",
    "- El valor *d* representa los negativos verdaderos (el modelo predijo negativo, y eso es correcto)\n",
    "- El valor *b* representa los positivos falsos (el modelo predijo positivo, pero eso es incorrecto)\n",
    "- El valor *c* representa los negativos falsos (el modelo predijo negativo, pero eso es incorrecto)\n",
    "\n",
    "Se evalúa la performance del modelo entrenado en base a las siguientes métricas:\n",
    "\n",
    "- *Accuracy (exactitud)*: representa la proporción de predicciones correctas sobre el total de predicciones\n",
    "  - $Accuracy = \\frac {a + d} {a + b + c + d}$\n",
    "- *Precision (precisión)*: representa la proporción de predicciones positivas correctas sobre el total de predicciones positivas\n",
    "  - $Precision = \\frac {a} {a + b}$\n",
    "- *Recall*: representa la proporción de predicciones positivas/negativas correctas sobre el total de valores reales positivos/negativos\n",
    "  - $Recall (positiva) = \\frac {a} {a + c}$\n",
    "  - $Recall (negativa)= \\frac {d} {b + d}$\n",
    "- *F1 score*: es un promedio armónico (las medias armónicas disminuyen la influencia de valores grandes) entre *precision* y *recall*\n",
    "\n",
    "> Cabe aclarar que en nuestro caso se entiende que los valores positivo y negativo de la matriz de confusión se relacionan a los valores de la variable objetivo de la siguiente manera:\n",
    "> - Positivo = 0 (el préstamo ha sido pagado)\n",
    "> - Negativo = 1 (no se ha pagado el préstamo) \n"
   ]
  },
  {
   "cell_type": "code",
   "execution_count": 28,
   "metadata": {},
   "outputs": [
    {
     "name": "stdout",
     "output_type": "stream",
     "text": [
      "Matriz de Confusión:\n",
      "[[300  13]\n",
      " [ 41  17]]\n",
      "\n",
      "\n",
      "Métricas de performance:\n",
      "              precision    recall  f1-score   support\n",
      "\n",
      "           0       0.88      0.96      0.92       313\n",
      "           1       0.57      0.29      0.39        58\n",
      "\n",
      "    accuracy                           0.85       371\n",
      "   macro avg       0.72      0.63      0.65       371\n",
      "weighted avg       0.83      0.85      0.83       371\n",
      "\n"
     ]
    }
   ],
   "source": [
    "print(\"Matriz de Confusión:\")\n",
    "print(confusion_matrix(y_test, y_pred))\n",
    "\n",
    "print(\"\\n\")\n",
    "\n",
    "print(\"Métricas de performance:\")\n",
    "print(classification_report(y_test, y_pred))"
   ]
  },
  {
   "cell_type": "markdown",
   "metadata": {},
   "source": [
    "Este resultado nos indica que la *accuracy* obtenida es de 0,85.\n",
    "\n",
    "Sin embargo debe considerarse que, como se observo al explorar las variables, la variable objetivo *TARGET* presenta dos clases (0 y 1) que están desbalanceadas; esto influenciaría el modelo entrenado al tener muchas observaciones para detectar casos en los que el crédito se ha pagado (valores positivos), pero pocos casos para poder predecir con mayor calidad los casos en los que el crédito no se pagó (valores negativos).\n",
    "\n",
    "Este desbalanceo provoca que la métrica *accuracy* quede influenciada por los valores positivos; para corregir esta situación se utiliza la *balanced accuracy* que representa la media aritmética de las *recalls* positivas y negativas\n",
    "- $Balanced \\text{ } accuracy = \\frac {Recall (positiva) + Recall (negativa)} {2} = \\frac {1} {2} (\\frac {a} {a+c} + \\frac {d} {b+d})$"
   ]
  },
  {
   "cell_type": "code",
   "execution_count": 31,
   "metadata": {},
   "outputs": [
    {
     "name": "stdout",
     "output_type": "stream",
     "text": [
      "Accuracy balanceada:\n",
      "0.63\n"
     ]
    }
   ],
   "source": [
    "print(\"Accuracy balanceada:\")\n",
    "print(round(balanced_accuracy_score(y_test, y_pred),2))"
   ]
  },
  {
   "cell_type": "markdown",
   "metadata": {},
   "source": [
    "Este valor coincide con el valor *macro avg* debajo de la columna *recall* de la matriz de métricas."
   ]
  }
 ],
 "metadata": {
  "kernelspec": {
   "display_name": "Python 3",
   "language": "python",
   "name": "python3"
  },
  "language_info": {
   "codemirror_mode": {
    "name": "ipython",
    "version": 3
   },
   "file_extension": ".py",
   "mimetype": "text/x-python",
   "name": "python",
   "nbconvert_exporter": "python",
   "pygments_lexer": "ipython3",
   "version": "3.8.10"
  }
 },
 "nbformat": 4,
 "nbformat_minor": 4
}
